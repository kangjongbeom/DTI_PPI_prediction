{
  "cells": [
    {
      "cell_type": "code",
      "execution_count": null,
      "metadata": {
        "id": "UOBVgqQR16vC"
      },
      "outputs": [],
      "source": [
        "# 기존 DeepDTA의 모델을 따 Protein Protein interaction 예측에 활용해보기 위함"
      ]
    },
    {
      "cell_type": "markdown",
      "metadata": {
        "id": "_KmcwVQu2NWJ"
      },
      "source": [
        "## Data Loader / Import"
      ]
    },
    {
      "cell_type": "code",
      "execution_count": null,
      "metadata": {
        "id": "A9qXUYLK2Pyh"
      },
      "outputs": [],
      "source": [
        "import pandas as pd\n",
        "import numpy as np\n",
        "import matplotlib.pyplot as plt\n",
        "import seaborn as sns\n",
        "\n",
        "import tensorflow as tf\n",
        "import tensorflow.keras as keras\n",
        "\n",
        "from sklearn.model_selection import train_test_split"
      ]
    },
    {
      "cell_type": "code",
      "execution_count": null,
      "metadata": {
        "id": "EfhKsdz02lTN"
      },
      "outputs": [],
      "source": [
        "train = pd.read_csv('/content/drive/MyDrive/바이오 AI 융합 해커톤/train.csv')\n",
        "test = pd.read_csv('/content/drive/MyDrive/바이오 AI 융합 해커톤/test.csv')"
      ]
    },
    {
      "cell_type": "markdown",
      "metadata": {
        "id": "YBUY0s_l2xRC"
      },
      "source": [
        "## EDA"
      ]
    },
    {
      "cell_type": "code",
      "execution_count": null,
      "metadata": {
        "colab": {
          "base_uri": "https://localhost:8080/",
          "height": 206
        },
        "id": "6ZPzidtR20Jx",
        "outputId": "1bc64dcb-44fd-473a-aa1a-dff4ca2e8caa"
      },
      "outputs": [
        {
          "output_type": "execute_result",
          "data": {
            "text/plain": [
              "              ID      frag_1      frag_2  h_bond_distance\n",
              "0  TRAIN_0000000        TLGR        VALV             15.0\n",
              "1  TRAIN_0000001     AILTCPF     GRIVPRF             20.0\n",
              "2  TRAIN_0000002      LRLSCA      MQLYVT             17.0\n",
              "3  TRAIN_0000003  TASVVCLLNN  SLTLTSSLSY             25.0\n",
              "4  TRAIN_0000004       VKLYL       ILVSD             19.0"
            ],
            "text/html": [
              "\n",
              "  <div id=\"df-124f43a3-300c-486e-8871-44dd143f1794\" class=\"colab-df-container\">\n",
              "    <div>\n",
              "<style scoped>\n",
              "    .dataframe tbody tr th:only-of-type {\n",
              "        vertical-align: middle;\n",
              "    }\n",
              "\n",
              "    .dataframe tbody tr th {\n",
              "        vertical-align: top;\n",
              "    }\n",
              "\n",
              "    .dataframe thead th {\n",
              "        text-align: right;\n",
              "    }\n",
              "</style>\n",
              "<table border=\"1\" class=\"dataframe\">\n",
              "  <thead>\n",
              "    <tr style=\"text-align: right;\">\n",
              "      <th></th>\n",
              "      <th>ID</th>\n",
              "      <th>frag_1</th>\n",
              "      <th>frag_2</th>\n",
              "      <th>h_bond_distance</th>\n",
              "    </tr>\n",
              "  </thead>\n",
              "  <tbody>\n",
              "    <tr>\n",
              "      <th>0</th>\n",
              "      <td>TRAIN_0000000</td>\n",
              "      <td>TLGR</td>\n",
              "      <td>VALV</td>\n",
              "      <td>15.0</td>\n",
              "    </tr>\n",
              "    <tr>\n",
              "      <th>1</th>\n",
              "      <td>TRAIN_0000001</td>\n",
              "      <td>AILTCPF</td>\n",
              "      <td>GRIVPRF</td>\n",
              "      <td>20.0</td>\n",
              "    </tr>\n",
              "    <tr>\n",
              "      <th>2</th>\n",
              "      <td>TRAIN_0000002</td>\n",
              "      <td>LRLSCA</td>\n",
              "      <td>MQLYVT</td>\n",
              "      <td>17.0</td>\n",
              "    </tr>\n",
              "    <tr>\n",
              "      <th>3</th>\n",
              "      <td>TRAIN_0000003</td>\n",
              "      <td>TASVVCLLNN</td>\n",
              "      <td>SLTLTSSLSY</td>\n",
              "      <td>25.0</td>\n",
              "    </tr>\n",
              "    <tr>\n",
              "      <th>4</th>\n",
              "      <td>TRAIN_0000004</td>\n",
              "      <td>VKLYL</td>\n",
              "      <td>ILVSD</td>\n",
              "      <td>19.0</td>\n",
              "    </tr>\n",
              "  </tbody>\n",
              "</table>\n",
              "</div>\n",
              "    <div class=\"colab-df-buttons\">\n",
              "\n",
              "  <div class=\"colab-df-container\">\n",
              "    <button class=\"colab-df-convert\" onclick=\"convertToInteractive('df-124f43a3-300c-486e-8871-44dd143f1794')\"\n",
              "            title=\"Convert this dataframe to an interactive table.\"\n",
              "            style=\"display:none;\">\n",
              "\n",
              "  <svg xmlns=\"http://www.w3.org/2000/svg\" height=\"24px\" viewBox=\"0 -960 960 960\">\n",
              "    <path d=\"M120-120v-720h720v720H120Zm60-500h600v-160H180v160Zm220 220h160v-160H400v160Zm0 220h160v-160H400v160ZM180-400h160v-160H180v160Zm440 0h160v-160H620v160ZM180-180h160v-160H180v160Zm440 0h160v-160H620v160Z\"/>\n",
              "  </svg>\n",
              "    </button>\n",
              "\n",
              "  <style>\n",
              "    .colab-df-container {\n",
              "      display:flex;\n",
              "      gap: 12px;\n",
              "    }\n",
              "\n",
              "    .colab-df-convert {\n",
              "      background-color: #E8F0FE;\n",
              "      border: none;\n",
              "      border-radius: 50%;\n",
              "      cursor: pointer;\n",
              "      display: none;\n",
              "      fill: #1967D2;\n",
              "      height: 32px;\n",
              "      padding: 0 0 0 0;\n",
              "      width: 32px;\n",
              "    }\n",
              "\n",
              "    .colab-df-convert:hover {\n",
              "      background-color: #E2EBFA;\n",
              "      box-shadow: 0px 1px 2px rgba(60, 64, 67, 0.3), 0px 1px 3px 1px rgba(60, 64, 67, 0.15);\n",
              "      fill: #174EA6;\n",
              "    }\n",
              "\n",
              "    .colab-df-buttons div {\n",
              "      margin-bottom: 4px;\n",
              "    }\n",
              "\n",
              "    [theme=dark] .colab-df-convert {\n",
              "      background-color: #3B4455;\n",
              "      fill: #D2E3FC;\n",
              "    }\n",
              "\n",
              "    [theme=dark] .colab-df-convert:hover {\n",
              "      background-color: #434B5C;\n",
              "      box-shadow: 0px 1px 3px 1px rgba(0, 0, 0, 0.15);\n",
              "      filter: drop-shadow(0px 1px 2px rgba(0, 0, 0, 0.3));\n",
              "      fill: #FFFFFF;\n",
              "    }\n",
              "  </style>\n",
              "\n",
              "    <script>\n",
              "      const buttonEl =\n",
              "        document.querySelector('#df-124f43a3-300c-486e-8871-44dd143f1794 button.colab-df-convert');\n",
              "      buttonEl.style.display =\n",
              "        google.colab.kernel.accessAllowed ? 'block' : 'none';\n",
              "\n",
              "      async function convertToInteractive(key) {\n",
              "        const element = document.querySelector('#df-124f43a3-300c-486e-8871-44dd143f1794');\n",
              "        const dataTable =\n",
              "          await google.colab.kernel.invokeFunction('convertToInteractive',\n",
              "                                                    [key], {});\n",
              "        if (!dataTable) return;\n",
              "\n",
              "        const docLinkHtml = 'Like what you see? Visit the ' +\n",
              "          '<a target=\"_blank\" href=https://colab.research.google.com/notebooks/data_table.ipynb>data table notebook</a>'\n",
              "          + ' to learn more about interactive tables.';\n",
              "        element.innerHTML = '';\n",
              "        dataTable['output_type'] = 'display_data';\n",
              "        await google.colab.output.renderOutput(dataTable, element);\n",
              "        const docLink = document.createElement('div');\n",
              "        docLink.innerHTML = docLinkHtml;\n",
              "        element.appendChild(docLink);\n",
              "      }\n",
              "    </script>\n",
              "  </div>\n",
              "\n",
              "\n",
              "<div id=\"df-a982b1ed-2659-415b-be89-f38e2b2e20b9\">\n",
              "  <button class=\"colab-df-quickchart\" onclick=\"quickchart('df-a982b1ed-2659-415b-be89-f38e2b2e20b9')\"\n",
              "            title=\"Suggest charts\"\n",
              "            style=\"display:none;\">\n",
              "\n",
              "<svg xmlns=\"http://www.w3.org/2000/svg\" height=\"24px\"viewBox=\"0 0 24 24\"\n",
              "     width=\"24px\">\n",
              "    <g>\n",
              "        <path d=\"M19 3H5c-1.1 0-2 .9-2 2v14c0 1.1.9 2 2 2h14c1.1 0 2-.9 2-2V5c0-1.1-.9-2-2-2zM9 17H7v-7h2v7zm4 0h-2V7h2v10zm4 0h-2v-4h2v4z\"/>\n",
              "    </g>\n",
              "</svg>\n",
              "  </button>\n",
              "\n",
              "<style>\n",
              "  .colab-df-quickchart {\n",
              "      --bg-color: #E8F0FE;\n",
              "      --fill-color: #1967D2;\n",
              "      --hover-bg-color: #E2EBFA;\n",
              "      --hover-fill-color: #174EA6;\n",
              "      --disabled-fill-color: #AAA;\n",
              "      --disabled-bg-color: #DDD;\n",
              "  }\n",
              "\n",
              "  [theme=dark] .colab-df-quickchart {\n",
              "      --bg-color: #3B4455;\n",
              "      --fill-color: #D2E3FC;\n",
              "      --hover-bg-color: #434B5C;\n",
              "      --hover-fill-color: #FFFFFF;\n",
              "      --disabled-bg-color: #3B4455;\n",
              "      --disabled-fill-color: #666;\n",
              "  }\n",
              "\n",
              "  .colab-df-quickchart {\n",
              "    background-color: var(--bg-color);\n",
              "    border: none;\n",
              "    border-radius: 50%;\n",
              "    cursor: pointer;\n",
              "    display: none;\n",
              "    fill: var(--fill-color);\n",
              "    height: 32px;\n",
              "    padding: 0;\n",
              "    width: 32px;\n",
              "  }\n",
              "\n",
              "  .colab-df-quickchart:hover {\n",
              "    background-color: var(--hover-bg-color);\n",
              "    box-shadow: 0 1px 2px rgba(60, 64, 67, 0.3), 0 1px 3px 1px rgba(60, 64, 67, 0.15);\n",
              "    fill: var(--button-hover-fill-color);\n",
              "  }\n",
              "\n",
              "  .colab-df-quickchart-complete:disabled,\n",
              "  .colab-df-quickchart-complete:disabled:hover {\n",
              "    background-color: var(--disabled-bg-color);\n",
              "    fill: var(--disabled-fill-color);\n",
              "    box-shadow: none;\n",
              "  }\n",
              "\n",
              "  .colab-df-spinner {\n",
              "    border: 2px solid var(--fill-color);\n",
              "    border-color: transparent;\n",
              "    border-bottom-color: var(--fill-color);\n",
              "    animation:\n",
              "      spin 1s steps(1) infinite;\n",
              "  }\n",
              "\n",
              "  @keyframes spin {\n",
              "    0% {\n",
              "      border-color: transparent;\n",
              "      border-bottom-color: var(--fill-color);\n",
              "      border-left-color: var(--fill-color);\n",
              "    }\n",
              "    20% {\n",
              "      border-color: transparent;\n",
              "      border-left-color: var(--fill-color);\n",
              "      border-top-color: var(--fill-color);\n",
              "    }\n",
              "    30% {\n",
              "      border-color: transparent;\n",
              "      border-left-color: var(--fill-color);\n",
              "      border-top-color: var(--fill-color);\n",
              "      border-right-color: var(--fill-color);\n",
              "    }\n",
              "    40% {\n",
              "      border-color: transparent;\n",
              "      border-right-color: var(--fill-color);\n",
              "      border-top-color: var(--fill-color);\n",
              "    }\n",
              "    60% {\n",
              "      border-color: transparent;\n",
              "      border-right-color: var(--fill-color);\n",
              "    }\n",
              "    80% {\n",
              "      border-color: transparent;\n",
              "      border-right-color: var(--fill-color);\n",
              "      border-bottom-color: var(--fill-color);\n",
              "    }\n",
              "    90% {\n",
              "      border-color: transparent;\n",
              "      border-bottom-color: var(--fill-color);\n",
              "    }\n",
              "  }\n",
              "</style>\n",
              "\n",
              "  <script>\n",
              "    async function quickchart(key) {\n",
              "      const quickchartButtonEl =\n",
              "        document.querySelector('#' + key + ' button');\n",
              "      quickchartButtonEl.disabled = true;  // To prevent multiple clicks.\n",
              "      quickchartButtonEl.classList.add('colab-df-spinner');\n",
              "      try {\n",
              "        const charts = await google.colab.kernel.invokeFunction(\n",
              "            'suggestCharts', [key], {});\n",
              "      } catch (error) {\n",
              "        console.error('Error during call to suggestCharts:', error);\n",
              "      }\n",
              "      quickchartButtonEl.classList.remove('colab-df-spinner');\n",
              "      quickchartButtonEl.classList.add('colab-df-quickchart-complete');\n",
              "    }\n",
              "    (() => {\n",
              "      let quickchartButtonEl =\n",
              "        document.querySelector('#df-a982b1ed-2659-415b-be89-f38e2b2e20b9 button');\n",
              "      quickchartButtonEl.style.display =\n",
              "        google.colab.kernel.accessAllowed ? 'block' : 'none';\n",
              "    })();\n",
              "  </script>\n",
              "</div>\n",
              "\n",
              "    </div>\n",
              "  </div>\n"
            ]
          },
          "metadata": {},
          "execution_count": 14
        }
      ],
      "source": [
        "train.head(5)"
      ]
    },
    {
      "cell_type": "code",
      "execution_count": null,
      "metadata": {
        "colab": {
          "base_uri": "https://localhost:8080/"
        },
        "id": "0xLLg4dB22ug",
        "outputId": "3db2da49-33f2-47ac-aab8-661a297d1013"
      },
      "outputs": [
        {
          "output_type": "stream",
          "name": "stdout",
          "text": [
            "Train data number : 1699067\n"
          ]
        }
      ],
      "source": [
        "print(f'Train data number : {len(train)}')"
      ]
    },
    {
      "cell_type": "code",
      "execution_count": null,
      "metadata": {
        "colab": {
          "base_uri": "https://localhost:8080/"
        },
        "id": "IvSyB8152_Fq",
        "outputId": "3f9c7d2c-3dde-40cc-cbc8-6f97b44dff99"
      },
      "outputs": [
        {
          "output_type": "execute_result",
          "data": {
            "text/plain": [
              "count    1.699067e+06\n",
              "mean     1.929865e+01\n",
              "std      3.972532e+00\n",
              "min      4.000000e+00\n",
              "25%      1.700000e+01\n",
              "50%      1.900000e+01\n",
              "75%      2.100000e+01\n",
              "max      3.700000e+01\n",
              "Name: h_bond_distance, dtype: float64"
            ]
          },
          "metadata": {},
          "execution_count": 16
        }
      ],
      "source": [
        "train.h_bond_distance.describe() # 17 - 19 - 21"
      ]
    },
    {
      "cell_type": "code",
      "execution_count": null,
      "metadata": {
        "id": "rtuPgC3I3cu9"
      },
      "outputs": [],
      "source": [
        "frag_1_Length = [len(i) for i in train['frag_1']]"
      ]
    },
    {
      "cell_type": "code",
      "execution_count": null,
      "metadata": {
        "id": "ePwZ5nlp4Uvm"
      },
      "outputs": [],
      "source": [
        "train['protein_Length'] = frag_1_Length"
      ]
    },
    {
      "cell_type": "code",
      "execution_count": null,
      "metadata": {
        "colab": {
          "base_uri": "https://localhost:8080/"
        },
        "id": "oUO3VLpo5Kdy",
        "outputId": "0c9e79c4-0520-4fa4-fb8a-af1689f254e7"
      },
      "outputs": [
        {
          "output_type": "execute_result",
          "data": {
            "text/plain": [
              "count    1.699067e+06\n",
              "mean     6.500604e+00\n",
              "std      2.149286e+00\n",
              "min      3.000000e+00\n",
              "25%      5.000000e+00\n",
              "50%      6.000000e+00\n",
              "75%      8.000000e+00\n",
              "max      5.700000e+01\n",
              "Name: protein_Length, dtype: float64"
            ]
          },
          "metadata": {},
          "execution_count": 19
        }
      ],
      "source": [
        "train.protein_Length.describe()"
      ]
    },
    {
      "cell_type": "code",
      "execution_count": null,
      "metadata": {
        "colab": {
          "base_uri": "https://localhost:8080/",
          "height": 450
        },
        "id": "pvO-jQ9Z4hRp",
        "outputId": "d5191d1e-a80c-4386-ab67-8049ea1ce3fb"
      },
      "outputs": [
        {
          "output_type": "display_data",
          "data": {
            "text/plain": [
              "<Figure size 640x480 with 1 Axes>"
            ],
            "image/png": "[encoded data removed]"
          },
          "metadata": {}
        }
      ],
      "source": [
        "sns.histplot(data=train, x='protein_Length',bins=50)\n",
        "plt.xlim(0,20)\n",
        "plt.show() # 패딩 길이 잡기.."
      ]
    },
    {
      "cell_type": "code",
      "execution_count": null,
      "metadata": {
        "colab": {
          "base_uri": "https://localhost:8080/",
          "height": 450
        },
        "id": "JY0shNKa5X9S",
        "outputId": "cea8996e-e088-4a0d-b366-d7f68e1a0d42"
      },
      "outputs": [
        {
          "output_type": "display_data",
          "data": {
            "text/plain": [
              "<Figure size 640x480 with 1 Axes>"
            ],
            "image/png": "[encoded data removed]"
          },
          "metadata": {}
        }
      ],
      "source": [
        "sns.histplot(data=train, x='h_bond_distance',bins=30)\n",
        "plt.xlim(0,50)\n",
        "plt.show()"
      ]
    },
    {
      "cell_type": "code",
      "source": [
        "# 뭔가 test의 protein length도 확인을 해야할 것 같은 기분\n",
        "frag_1_Length = [len(i) for i in test['frag_1']]\n",
        "test['protein_Length'] = frag_1_Length\n",
        "\n",
        "sns.histplot(data=test, x='protein_Length',bins=50)\n",
        "plt.xlim(0,20)\n",
        "plt.show()"
      ],
      "metadata": {
        "colab": {
          "base_uri": "https://localhost:8080/",
          "height": 450
        },
        "id": "ddQHZZlfJFo6",
        "outputId": "abceae91-507b-4d82-aded-b161ff6c03f4"
      },
      "execution_count": null,
      "outputs": [
        {
          "output_type": "display_data",
          "data": {
            "text/plain": [
              "<Figure size 640x480 with 1 Axes>"
            ],
            "image/png": "[encoded data removed]"
          },
          "metadata": {}
        }
      ]
    },
    {
      "cell_type": "code",
      "source": [
        "test.protein_Length.describe()"
      ],
      "metadata": {
        "colab": {
          "base_uri": "https://localhost:8080/"
        },
        "id": "ZrJDH1_DJ8Uz",
        "outputId": "46a9330d-2333-4dae-b9a6-99dfa443bf64"
      },
      "execution_count": null,
      "outputs": [
        {
          "output_type": "execute_result",
          "data": {
            "text/plain": [
              "count    163537.000000\n",
              "mean          6.117735\n",
              "std           2.225750\n",
              "min           3.000000\n",
              "25%           4.000000\n",
              "50%           6.000000\n",
              "75%           7.000000\n",
              "max          42.000000\n",
              "Name: protein_Length, dtype: float64"
            ]
          },
          "metadata": {},
          "execution_count": 23
        }
      ]
    },
    {
      "cell_type": "code",
      "source": [
        "train.protein_Length.describe()"
      ],
      "metadata": {
        "colab": {
          "base_uri": "https://localhost:8080/"
        },
        "id": "6zhmY-OfKNF3",
        "outputId": "144893b8-2f28-47b6-854d-23e17b6992bc"
      },
      "execution_count": null,
      "outputs": [
        {
          "output_type": "execute_result",
          "data": {
            "text/plain": [
              "count    1.699067e+06\n",
              "mean     6.500604e+00\n",
              "std      2.149286e+00\n",
              "min      3.000000e+00\n",
              "25%      5.000000e+00\n",
              "50%      6.000000e+00\n",
              "75%      8.000000e+00\n",
              "max      5.700000e+01\n",
              "Name: protein_Length, dtype: float64"
            ]
          },
          "metadata": {},
          "execution_count": 24
        }
      ]
    },
    {
      "cell_type": "markdown",
      "metadata": {
        "id": "OiQ67lJH5wkM"
      },
      "source": [
        "## Preprocessing"
      ]
    },
    {
      "cell_type": "code",
      "execution_count": null,
      "metadata": {
        "id": "DVYp-nAI5zRu"
      },
      "outputs": [],
      "source": [
        "# 토큰화(패딩길이 정하기) / 정수 인코딩 / 모델 넣기.\n",
        "\n",
        "# Amino Vocab부터 만들기 20개인데 그냥 직접 만듬.\n",
        "amino_vocab = {'<PAD>':0, 'A': 1, 'C': 2, 'D': 3, 'E': 4, 'F': 5, 'G': 6, 'H': 7, 'I': 8, 'K': 9, 'L': 10, 'M': 11, 'N': 12, 'P': 13, 'Q': 14, 'R': 15, 'S': 16, 'T': 17, 'V': 18, 'W': 19, 'Y': 20}"
      ]
    },
    {
      "cell_type": "code",
      "execution_count": null,
      "metadata": {
        "id": "Hqg22DQz7qCA"
      },
      "outputs": [],
      "source": [
        "class protein_tokenize():\n",
        "  def __init__(self, target_vocab):\n",
        "    self.target_vocab = target_vocab\n",
        "    self.target_Length = 15 # 길이 조정 필요\n",
        "\n",
        "  def padding(self, encoded, drug=True):\n",
        "    return encoded + (self.target_Length - len(encoded)) * [self.target_vocab['<PAD>']]\n",
        "\n",
        "  def protein_encode(self, target):\n",
        "    encoded = [self.target_vocab[i] for i in target[:self.target_Length]]\n",
        "    return np.array(self.padding(encoded, False))"
      ]
    },
    {
      "cell_type": "code",
      "execution_count": null,
      "metadata": {
        "id": "4jgl4bb5DCnf"
      },
      "outputs": [],
      "source": [
        "# 근데 Train에서 잘 못 나누면 검증 set에서 data leakage 일어나는 듯\n",
        "a = train.frag_1.copy()\n",
        "b = train.frag_2.copy()\n",
        "label = train.h_bond_distance.copy()"
      ]
    },
    {
      "cell_type": "code",
      "execution_count": null,
      "metadata": {
        "id": "6hx39G0ooZAv"
      },
      "outputs": [],
      "source": [
        "a_train, a_valid, label_train, label_valid = train_test_split(a,label,test_size=0.1, random_state= 42)\n",
        "b_train, b_valid, label_train, label_valid = train_test_split(b,label,test_size=0.1, random_state= 42)"
      ]
    },
    {
      "cell_type": "code",
      "source": [
        "print(a_train[0],b_train[0], '\\n \\n',train.head(1))"
      ],
      "metadata": {
        "colab": {
          "base_uri": "https://localhost:8080/"
        },
        "id": "FCaUDuTIXGYZ",
        "outputId": "bfa57f14-b530-4d5c-a9b1-d945ba4105cd"
      },
      "execution_count": null,
      "outputs": [
        {
          "output_type": "stream",
          "name": "stdout",
          "text": [
            "TLGR VALV \n",
            " \n",
            "               ID frag_1 frag_2  h_bond_distance\n",
            "0  TRAIN_0000000   TLGR   VALV             15.0\n"
          ]
        }
      ]
    },
    {
      "cell_type": "code",
      "execution_count": null,
      "metadata": {
        "id": "LVOZSun38W1X"
      },
      "outputs": [],
      "source": [
        "tokenize = protein_tokenize(amino_vocab)\n",
        "\n",
        "train_token_1 = np.vstack([tokenize.protein_encode(i) for i in a_train])\n",
        "train_token_2 = np.vstack([tokenize.protein_encode(i) for i in b_train])\n",
        "\n",
        "valid_token_1 = np.vstack([tokenize.protein_encode(i) for i in a_valid])\n",
        "valid_token_2 = np.vstack([tokenize.protein_encode(i) for i in b_valid])\n",
        "\n",
        "\n",
        "test_token_1 = np.vstack([tokenize.protein_encode(i) for i in test.frag_1])\n",
        "test_token_2 = np.vstack([tokenize.protein_encode(i) for i in test.frag_2])"
      ]
    },
    {
      "cell_type": "markdown",
      "metadata": {
        "id": "2uNHwIjD-ny-"
      },
      "source": [
        "## Model / Test"
      ]
    },
    {
      "cell_type": "code",
      "execution_count": null,
      "metadata": {
        "colab": {
          "base_uri": "https://localhost:8080/"
        },
        "id": "RPEm0JMK86dF",
        "outputId": "91ffd60e-3837-4d57-a804-c3461f5e5ccc"
      },
      "outputs": [
        {
          "output_type": "stream",
          "name": "stdout",
          "text": [
            "Epoch 1/30\n",
            "11947/11947 [==============================] - ETA: 0s - loss: 2.4221 - mean_absolute_error: 1.6797\n",
            "Epoch 1: val_loss improved from inf to 2.39942, saving model to /content/drive/MyDrive/바이오 AI 융합 해커톤/best_ppi_model.h5\n",
            "11947/11947 [==============================] - 94s 7ms/step - loss: 2.4221 - mean_absolute_error: 1.6797 - val_loss: 2.3994 - val_mean_absolute_error: 1.6132\n",
            "Epoch 2/30\n",
            "11946/11947 [============================>.] - ETA: 0s - loss: 2.1478 - mean_absolute_error: 1.4434\n",
            "Epoch 2: val_loss improved from 2.39942 to 2.07166, saving model to /content/drive/MyDrive/바이오 AI 융합 해커톤/best_ppi_model.h5\n",
            "11947/11947 [==============================] - 89s 7ms/step - loss: 2.1478 - mean_absolute_error: 1.4434 - val_loss: 2.0717 - val_mean_absolute_error: 1.3636\n",
            "Epoch 3/30\n",
            "11943/11947 [============================>.] - ETA: 0s - loss: 2.0652 - mean_absolute_error: 1.3800\n",
            "Epoch 3: val_loss did not improve from 2.07166\n",
            "11947/11947 [==============================] - 86s 7ms/step - loss: 2.0652 - mean_absolute_error: 1.3800 - val_loss: 2.1062 - val_mean_absolute_error: 1.3944\n",
            "Epoch 4/30\n",
            "11944/11947 [============================>.] - ETA: 0s - loss: 2.0130 - mean_absolute_error: 1.3403\n",
            "Epoch 4: val_loss improved from 2.07166 to 1.99112, saving model to /content/drive/MyDrive/바이오 AI 융합 해커톤/best_ppi_model.h5\n",
            "11947/11947 [==============================] - 86s 7ms/step - loss: 2.0130 - mean_absolute_error: 1.3403 - val_loss: 1.9911 - val_mean_absolute_error: 1.3025\n",
            "Epoch 5/30\n",
            "11947/11947 [==============================] - ETA: 0s - loss: 1.9742 - mean_absolute_error: 1.3116\n",
            "Epoch 5: val_loss improved from 1.99112 to 1.93699, saving model to /content/drive/MyDrive/바이오 AI 융합 해커톤/best_ppi_model.h5\n",
            "11947/11947 [==============================] - 84s 7ms/step - loss: 1.9742 - mean_absolute_error: 1.3116 - val_loss: 1.9370 - val_mean_absolute_error: 1.2831\n",
            "Epoch 6/30\n",
            "11944/11947 [============================>.] - ETA: 0s - loss: 1.9455 - mean_absolute_error: 1.2903\n",
            "Epoch 6: val_loss did not improve from 1.93699\n",
            "11947/11947 [==============================] - 87s 7ms/step - loss: 1.9454 - mean_absolute_error: 1.2903 - val_loss: 1.9467 - val_mean_absolute_error: 1.2881\n",
            "Epoch 7/30\n",
            "11947/11947 [==============================] - ETA: 0s - loss: 1.9221 - mean_absolute_error: 1.2738\n",
            "Epoch 7: val_loss did not improve from 1.93699\n",
            "11947/11947 [==============================] - 87s 7ms/step - loss: 1.9221 - mean_absolute_error: 1.2738 - val_loss: 1.9543 - val_mean_absolute_error: 1.2754\n",
            "Epoch 8/30\n",
            "11944/11947 [============================>.] - ETA: 0s - loss: 1.9078 - mean_absolute_error: 1.2627\n",
            "Epoch 8: val_loss improved from 1.93699 to 1.92521, saving model to /content/drive/MyDrive/바이오 AI 융합 해커톤/best_ppi_model.h5\n",
            "11947/11947 [==============================] - 84s 7ms/step - loss: 1.9078 - mean_absolute_error: 1.2627 - val_loss: 1.9252 - val_mean_absolute_error: 1.2506\n",
            "Epoch 9/30\n",
            "11943/11947 [============================>.] - ETA: 0s - loss: 1.8926 - mean_absolute_error: 1.2515\n",
            "Epoch 9: val_loss improved from 1.92521 to 1.87083, saving model to /content/drive/MyDrive/바이오 AI 융합 해커톤/best_ppi_model.h5\n",
            "11947/11947 [==============================] - 85s 7ms/step - loss: 1.8926 - mean_absolute_error: 1.2515 - val_loss: 1.8708 - val_mean_absolute_error: 1.2243\n",
            "Epoch 10/30\n",
            "11947/11947 [==============================] - ETA: 0s - loss: 1.8811 - mean_absolute_error: 1.2440\n",
            "Epoch 10: val_loss did not improve from 1.87083\n",
            "11947/11947 [==============================] - 85s 7ms/step - loss: 1.8811 - mean_absolute_error: 1.2440 - val_loss: 1.8747 - val_mean_absolute_error: 1.2137\n",
            "Epoch 11/30\n",
            "11941/11947 [============================>.] - ETA: 0s - loss: 1.8692 - mean_absolute_error: 1.2353\n",
            "Epoch 11: val_loss improved from 1.87083 to 1.85959, saving model to /content/drive/MyDrive/바이오 AI 융합 해커톤/best_ppi_model.h5\n",
            "11947/11947 [==============================] - 83s 7ms/step - loss: 1.8691 - mean_absolute_error: 1.2352 - val_loss: 1.8596 - val_mean_absolute_error: 1.2132\n",
            "Epoch 12/30\n",
            "11946/11947 [============================>.] - ETA: 0s - loss: 1.8607 - mean_absolute_error: 1.2291\n",
            "Epoch 12: val_loss improved from 1.85959 to 1.84364, saving model to /content/drive/MyDrive/바이오 AI 융합 해커톤/best_ppi_model.h5\n",
            "11947/11947 [==============================] - 90s 8ms/step - loss: 1.8607 - mean_absolute_error: 1.2291 - val_loss: 1.8436 - val_mean_absolute_error: 1.1921\n",
            "Epoch 13/30\n",
            "11941/11947 [============================>.] - ETA: 0s - loss: 1.8506 - mean_absolute_error: 1.2231\n",
            "Epoch 13: val_loss did not improve from 1.84364\n",
            "11947/11947 [==============================] - 89s 7ms/step - loss: 1.8507 - mean_absolute_error: 1.2232 - val_loss: 1.8695 - val_mean_absolute_error: 1.2135\n",
            "Epoch 14/30\n",
            "11942/11947 [============================>.] - ETA: 0s - loss: 1.8439 - mean_absolute_error: 1.2183\n",
            "Epoch 14: val_loss improved from 1.84364 to 1.83531, saving model to /content/drive/MyDrive/바이오 AI 융합 해커톤/best_ppi_model.h5\n",
            "11947/11947 [==============================] - 85s 7ms/step - loss: 1.8438 - mean_absolute_error: 1.2182 - val_loss: 1.8353 - val_mean_absolute_error: 1.1842\n",
            "Epoch 15/30\n",
            "11941/11947 [============================>.] - ETA: 0s - loss: 1.8363 - mean_absolute_error: 1.2129\n",
            "Epoch 15: val_loss did not improve from 1.83531\n",
            "11947/11947 [==============================] - 85s 7ms/step - loss: 1.8362 - mean_absolute_error: 1.2128 - val_loss: 1.8671 - val_mean_absolute_error: 1.2174\n",
            "Epoch 16/30\n",
            "11940/11947 [============================>.] - ETA: 0s - loss: 1.8305 - mean_absolute_error: 1.2086\n",
            "Epoch 16: val_loss did not improve from 1.83531\n",
            "11947/11947 [==============================] - 84s 7ms/step - loss: 1.8304 - mean_absolute_error: 1.2085 - val_loss: 1.8757 - val_mean_absolute_error: 1.2286\n",
            "Epoch 17/30\n",
            "11941/11947 [============================>.] - ETA: 0s - loss: 1.8240 - mean_absolute_error: 1.2037\n",
            "Epoch 17: val_loss improved from 1.83531 to 1.82071, saving model to /content/drive/MyDrive/바이오 AI 융합 해커톤/best_ppi_model.h5\n",
            "11947/11947 [==============================] - 87s 7ms/step - loss: 1.8241 - mean_absolute_error: 1.2038 - val_loss: 1.8207 - val_mean_absolute_error: 1.1711\n",
            "Epoch 18/30\n",
            "11946/11947 [============================>.] - ETA: 0s - loss: 1.8201 - mean_absolute_error: 1.2016\n",
            "Epoch 18: val_loss did not improve from 1.82071\n",
            "11947/11947 [==============================] - 86s 7ms/step - loss: 1.8201 - mean_absolute_error: 1.2016 - val_loss: 1.8446 - val_mean_absolute_error: 1.2068\n",
            "Epoch 19/30\n",
            "11944/11947 [============================>.] - ETA: 0s - loss: 1.8160 - mean_absolute_error: 1.1981\n",
            "Epoch 19: val_loss did not improve from 1.82071\n",
            "11947/11947 [==============================] - 89s 7ms/step - loss: 1.8159 - mean_absolute_error: 1.1981 - val_loss: 1.8379 - val_mean_absolute_error: 1.2080\n",
            "Epoch 20/30\n",
            "11945/11947 [============================>.] - ETA: 0s - loss: 1.8106 - mean_absolute_error: 1.1947\n",
            "Epoch 20: val_loss improved from 1.82071 to 1.79835, saving model to /content/drive/MyDrive/바이오 AI 융합 해커톤/best_ppi_model.h5\n",
            "11947/11947 [==============================] - 86s 7ms/step - loss: 1.8106 - mean_absolute_error: 1.1947 - val_loss: 1.7984 - val_mean_absolute_error: 1.1747\n",
            "Epoch 21/30\n",
            "11946/11947 [============================>.] - ETA: 0s - loss: 1.8070 - mean_absolute_error: 1.1921\n",
            "Epoch 21: val_loss did not improve from 1.79835\n",
            "11947/11947 [==============================] - 88s 7ms/step - loss: 1.8070 - mean_absolute_error: 1.1921 - val_loss: 1.8080 - val_mean_absolute_error: 1.1985\n",
            "Epoch 22/30\n",
            "11947/11947 [==============================] - ETA: 0s - loss: 1.8028 - mean_absolute_error: 1.1886\n",
            "Epoch 22: val_loss did not improve from 1.79835\n",
            "11947/11947 [==============================] - 92s 8ms/step - loss: 1.8028 - mean_absolute_error: 1.1886 - val_loss: 1.8193 - val_mean_absolute_error: 1.1832\n",
            "Epoch 23/30\n",
            "11945/11947 [============================>.] - ETA: 0s - loss: 1.7986 - mean_absolute_error: 1.1859\n",
            "Epoch 23: val_loss improved from 1.79835 to 1.78627, saving model to /content/drive/MyDrive/바이오 AI 융합 해커톤/best_ppi_model.h5\n",
            "11947/11947 [==============================] - 91s 8ms/step - loss: 1.7986 - mean_absolute_error: 1.1859 - val_loss: 1.7863 - val_mean_absolute_error: 1.1562\n",
            "Epoch 24/30\n",
            "11944/11947 [============================>.] - ETA: 0s - loss: 1.7934 - mean_absolute_error: 1.1834\n",
            "Epoch 24: val_loss did not improve from 1.78627\n",
            "11947/11947 [==============================] - 92s 8ms/step - loss: 1.7934 - mean_absolute_error: 1.1834 - val_loss: 1.7986 - val_mean_absolute_error: 1.1666\n",
            "Epoch 25/30\n",
            "11944/11947 [============================>.] - ETA: 0s - loss: 1.7907 - mean_absolute_error: 1.1805\n",
            "Epoch 25: val_loss improved from 1.78627 to 1.78388, saving model to /content/drive/MyDrive/바이오 AI 융합 해커톤/best_ppi_model.h5\n",
            "11947/11947 [==============================] - 93s 8ms/step - loss: 1.7907 - mean_absolute_error: 1.1805 - val_loss: 1.7839 - val_mean_absolute_error: 1.1712\n",
            "Epoch 26/30\n",
            "11944/11947 [============================>.] - ETA: 0s - loss: 1.7889 - mean_absolute_error: 1.1794\n",
            "Epoch 26: val_loss did not improve from 1.78388\n",
            "11947/11947 [==============================] - 92s 8ms/step - loss: 1.7889 - mean_absolute_error: 1.1794 - val_loss: 1.7936 - val_mean_absolute_error: 1.1557\n",
            "Epoch 27/30\n",
            "11946/11947 [============================>.] - ETA: 0s - loss: 1.7856 - mean_absolute_error: 1.1775\n",
            "Epoch 27: val_loss improved from 1.78388 to 1.77646, saving model to /content/drive/MyDrive/바이오 AI 융합 해커톤/best_ppi_model.h5\n",
            "11947/11947 [==============================] - 93s 8ms/step - loss: 1.7856 - mean_absolute_error: 1.1775 - val_loss: 1.7765 - val_mean_absolute_error: 1.1507\n",
            "Epoch 28/30\n",
            "11947/11947 [==============================] - ETA: 0s - loss: 1.7830 - mean_absolute_error: 1.1751\n",
            "Epoch 28: val_loss did not improve from 1.77646\n",
            "11947/11947 [==============================] - 87s 7ms/step - loss: 1.7830 - mean_absolute_error: 1.1751 - val_loss: 1.8040 - val_mean_absolute_error: 1.1795\n",
            "Epoch 29/30\n",
            "11945/11947 [============================>.] - ETA: 0s - loss: 1.7790 - mean_absolute_error: 1.1731\n",
            "Epoch 29: val_loss did not improve from 1.77646\n",
            "11947/11947 [==============================] - 90s 8ms/step - loss: 1.7790 - mean_absolute_error: 1.1731 - val_loss: 1.7981 - val_mean_absolute_error: 1.1640\n",
            "Epoch 30/30\n",
            "11944/11947 [============================>.] - ETA: 0s - loss: 1.7764 - mean_absolute_error: 1.1710\n",
            "Epoch 30: val_loss improved from 1.77646 to 1.77440, saving model to /content/drive/MyDrive/바이오 AI 융합 해커톤/best_ppi_model.h5\n",
            "11947/11947 [==============================] - 88s 7ms/step - loss: 1.7765 - mean_absolute_error: 1.1710 - val_loss: 1.7744 - val_mean_absolute_error: 1.1517\n"
          ]
        },
        {
          "output_type": "execute_result",
          "data": {
            "text/plain": [
              "<keras.src.callbacks.History at 0x79f6f00d63e0>"
            ]
          },
          "metadata": {},
          "execution_count": 23
        }
      ],
      "source": [
        "class PPI_model(tf.keras.Model):\n",
        "    def __init__(self, target_vocab, embedding_dim):\n",
        "        super(PPI_model, self).__init__()\n",
        "        self.protein_embedding_1 = tf.keras.layers.Embedding(input_dim=len(target_vocab), output_dim=embedding_dim)\n",
        "        self.protein_embedding_2 = tf.keras.layers.Embedding(input_dim=len(target_vocab), output_dim=embedding_dim)\n",
        "\n",
        "        self.protein_1_ConvLayers = tf.keras.Sequential([\n",
        "            tf.keras.layers.Conv1D(32, 2, activation='relu', padding='valid', strides=1),\n",
        "            tf.keras.layers.Conv1D(32, 3, activation='relu', padding='valid', strides=1)])\n",
        "\n",
        "        self.protein_1_pooling = tf.keras.layers.GlobalMaxPooling1D()\n",
        "\n",
        "        self.protein_2_ConvLayers = tf.keras.Sequential([\n",
        "            tf.keras.layers.Conv1D(32, 2, activation='relu', padding='valid', strides=1),\n",
        "            tf.keras.layers.Conv1D(32, 3, activation='relu', padding='valid', strides=1)])\n",
        "\n",
        "        self.protein_2_pooling = tf.keras.layers.GlobalMaxPooling1D()\n",
        "\n",
        "        # self.attention = 예정\n",
        "\n",
        "        self.merge = tf.keras.layers.Concatenate(axis=-1)  # Change axis to 1\n",
        "\n",
        "        self.FC_layers = tf.keras.Sequential([\n",
        "            tf.keras.layers.Flatten(),\n",
        "            tf.keras.layers.Dense(256, activation='relu'),\n",
        "            tf.keras.layers.Dropout(0.1),\n",
        "            tf.keras.layers.Dense(128, activation='relu'),\n",
        "            tf.keras.layers.Dropout(0.1),\n",
        "            tf.keras.layers.Dense(128, activation='relu'),\n",
        "            tf.keras.layers.Dense(1, activation=None)\n",
        "        ])\n",
        "\n",
        "    def call(self, inputs):\n",
        "        protein_data1, protein_data2 = inputs\n",
        "        x1 = self.protein_embedding_1(protein_data1)\n",
        "        x2 = self.protein_embedding_2(protein_data2)\n",
        "\n",
        "        x1 = self.protein_1_ConvLayers(x1)\n",
        "        x2 = self.protein_2_ConvLayers(x2)\n",
        "\n",
        "        x1 = self.protein_1_pooling(x1)\n",
        "        x2 = self.protein_2_pooling(x2)\n",
        "\n",
        "        # Apply attention (예정)\n",
        "\n",
        "        encoded_interaction = self.merge([x1, x2])\n",
        "        prediction = self.FC_layers(encoded_interaction)\n",
        "        return prediction\n",
        "\n",
        "# Create an instance of your model\n",
        "model = PPI_model(amino_vocab, 32)\n",
        "\n",
        "def rmse(y_true, y_pred):\n",
        "    return tf.sqrt(tf.reduce_mean(tf.square(y_true - y_pred)))\n",
        "\n",
        "# Compile the model\n",
        "model.compile(optimizer='adam', loss= rmse, metrics=['mean_absolute_error'])\n",
        "\n",
        "model_checkpoint = keras.callbacks.ModelCheckpoint('/content/drive/MyDrive/바이오 AI 융합 해커톤/best_ppi_model.h5', save_best_only=True, save_weights_only=True, monitor='val_loss', mode='min', verbose=1)\n",
        "\n",
        "callbacks_list = [model_checkpoint]\n",
        "\n",
        "# Fit the model to your data\n",
        "model.fit((train_token_1, train_token_2), label_train, batch_size=128, callbacks=callbacks_list, validation_data=[(valid_token_1,valid_token_2),label_valid], epochs=30) # 높은 확률로 train/valid에서 data leakage인듯"
      ]
    },
    {
      "cell_type": "code",
      "execution_count": null,
      "metadata": {
        "colab": {
          "background_save": true
        },
        "id": "hJKv_O8nDk-Z",
        "outputId": "c847ca53-0002-4600-be52-7e7d0d82fe4a"
      },
      "outputs": [
        {
          "data": {
            "application/vnd.google.colaboratory.intrinsic+json": {
              "type": "string"
            },
            "text/plain": [
              "'\\nEpoch 10/10\\n10620/10620 [==============================] - 78s 7ms/step - loss: 3.2161 - mean_absolute_error: 1.1556 - val_loss: 3.2395(MSE) -> 1.79 - val_mean_absolute_error: 1.1486\\n\\nEpoch 5: val_loss improved from 1.98328 to 1.94633, saving model to /content/drive/MyDrive/바이오 AI 융합 해커톤/best_ppi_model.h5\\n11947/11947 [==============================] - 83s 7ms/step - loss: 1.9748 - mean_absolute_error: 1.3105 - val_loss: 1.9463 - val_mean_absolute_error: 1.2791\\n'"
            ]
          },
          "execution_count": 11,
          "metadata": {},
          "output_type": "execute_result"
        }
      ],
      "source": [
        "'''\n",
        "Epoch 10/10\n",
        "10620/10620 [==============================] - 78s 7ms/step - loss: 3.2161 - mean_absolute_error: 1.1556 - val_loss: 3.2395(MSE) -> 1.79 - val_mean_absolute_error: 1.1486\n",
        "\n",
        "Epoch 5: val_loss improved from 1.98328 to 1.94633, saving model to /content/drive/MyDrive/바이오 AI 융합 해커톤/best_ppi_model.h5\n",
        "11947/11947 [==============================] - 83s 7ms/step - loss: 1.9748 - mean_absolute_error: 1.3105 - val_loss: 1.9463 - val_mean_absolute_error: 1.2791\n",
        "'''"
      ]
    },
    {
      "cell_type": "code",
      "execution_count": null,
      "metadata": {
        "colab": {
          "background_save": true
        },
        "id": "BGrenZ6kBc0E"
      },
      "outputs": [],
      "source": [
        "# test_pred = model.predict((test_token_1, test_token_2))"
      ]
    },
    {
      "cell_type": "code",
      "execution_count": null,
      "metadata": {
        "colab": {
          "base_uri": "https://localhost:8080/"
        },
        "id": "cBm1M2BhFf8i",
        "outputId": "4c9b4343-f117-444d-97bf-64f9c86a0680"
      },
      "outputs": [
        {
          "output_type": "stream",
          "name": "stdout",
          "text": [
            "5111/5111 [==============================] - 13s 2ms/step\n"
          ]
        }
      ],
      "source": [
        "# Create an instance of your model\n",
        "best_ppi_model = PPI_model(amino_vocab, 32)\n",
        "\n",
        "\n",
        "best_ppi_model.build([(None, 12),(None, 12)])\n",
        "\n",
        "# Load the weights\n",
        "best_ppi_model.load_weights('/content/drive/MyDrive/바이오 AI 융합 해커톤/best_ppi_model.h5')\n",
        "\n",
        "# Compile the model\n",
        "best_ppi_model.compile(optimizer='adam', loss='mean_squared_error', metrics=['mean_absolute_error'])\n",
        "\n",
        "# Now, you can use the model for predictions\n",
        "test_pred = best_ppi_model.predict((test_token_1, test_token_2))\n"
      ]
    },
    {
      "cell_type": "code",
      "execution_count": null,
      "metadata": {
        "id": "zA7iD9u2Bm-P"
      },
      "outputs": [],
      "source": [
        "submit = pd.read_csv('/content/drive/MyDrive/바이오 AI 융합 해커톤/sample_submission.csv')\n",
        "submit['h_bond_distance'] = test_pred\n",
        "\n",
        "import time\n",
        "time_ = time.strftime(\"%m%d_%M\", time.localtime())\n",
        "\n",
        "submit.to_csv(f'/content/drive/MyDrive/바이오 AI 융합 해커톤/submition_ppi_{time_}.csv', index=False)"
      ]
    },
    {
      "cell_type": "markdown",
      "metadata": {
        "id": "iPZxin0iHNxW"
      },
      "source": [
        "## 어텐션 추가 모델"
      ]
    },
    {
      "cell_type": "code",
      "source": [
        "class SelfAttention(tf.keras.layers.Layer):\n",
        "    def __init__(self, units):\n",
        "        super(SelfAttention, self).__init__()\n",
        "        self.units = units\n",
        "        self.W_q = tf.keras.layers.Dense(units)\n",
        "        self.W_k = tf.keras.layers.Dense(units)\n",
        "        self.W_v = tf.keras.layers.Dense(units)\n",
        "        self.attention = tf.keras.layers.Attention(use_scale=True)\n",
        "\n",
        "    def call(self, x):\n",
        "        q = self.W_q(x)\n",
        "        k = self.W_k(x)\n",
        "        v = self.W_v(x)\n",
        "\n",
        "        attention_output = self.attention([q, k, v])\n",
        "        return attention_output\n",
        "\n",
        "class PPI_model(tf.keras.Model):\n",
        "    def __init__(self, target_vocab, embedding_dim):\n",
        "        super(PPI_model, self).__init__()\n",
        "        self.protein_embedding_1 = tf.keras.layers.Embedding(input_dim=len(target_vocab), output_dim=embedding_dim)\n",
        "        self.protein_embedding_2 = tf.keras.layers.Embedding(input_dim=len(target_vocab), output_dim=embedding_dim)\n",
        "\n",
        "        self.protein_1_ConvLayers = tf.keras.Sequential([\n",
        "            tf.keras.layers.Conv1D(32, 2, activation='relu', padding='valid', strides=1),\n",
        "            tf.keras.layers.Conv1D(32, 3, activation='relu', padding='valid', strides=1)])\n",
        "\n",
        "        self.protein_1_pooling = tf.keras.layers.GlobalMaxPooling1D()\n",
        "\n",
        "        self.protein_2_ConvLayers = tf.keras.Sequential([\n",
        "            tf.keras.layers.Conv1D(32, 2, activation='relu', padding='valid', strides=1),\n",
        "            tf.keras.layers.Conv1D(32, 3, activation='relu', padding='valid', strides=1)])\n",
        "\n",
        "        self.protein_2_pooling = tf.keras.layers.GlobalMaxPooling1D()\n",
        "\n",
        "        self.self_attention_1 = SelfAttention(units=64)\n",
        "        self.self_attention_2 = SelfAttention(units=64)\n",
        "\n",
        "        self.merge = tf.keras.layers.Concatenate(axis=-1)\n",
        "\n",
        "        self.FC_layers = tf.keras.Sequential([\n",
        "            tf.keras.layers.Flatten(),\n",
        "            tf.keras.layers.Dense(256, activation='relu'),\n",
        "            tf.keras.layers.Dropout(0.1),\n",
        "            tf.keras.layers.Dense(128, activation='relu'),\n",
        "            tf.keras.layers.Dropout(0.1),\n",
        "            tf.keras.layers.Dense(128, activation='relu'),\n",
        "            tf.keras.layers.Dense(1, activation=None)\n",
        "        ])\n",
        "\n",
        "    def call(self, inputs):\n",
        "        protein_data1, protein_data2 = inputs\n",
        "        x1 = self.protein_embedding_1(protein_data1)\n",
        "        x2 = self.protein_embedding_2(protein_data2)\n",
        "\n",
        "        x1 = self.protein_1_ConvLayers(x1)\n",
        "        x2 = self.protein_2_ConvLayers(x2)\n",
        "\n",
        "        x1_att = self.self_attention_1(x1)\n",
        "        x2_att = self.self_attention_2(x2)\n",
        "\n",
        "        x1 = self.merge([x1_att, x1])\n",
        "        x2 = self.merge([x2_att, x2])\n",
        "\n",
        "        x1 = self.protein_1_pooling(x1)\n",
        "        x2 = self.protein_2_pooling(x2)\n",
        "\n",
        "        encoded_interaction = self.merge([x1, x2])\n",
        "        prediction = self.FC_layers(encoded_interaction)\n",
        "        return prediction"
      ],
      "metadata": {
        "id": "UlWZBHcycxiX"
      },
      "execution_count": null,
      "outputs": []
    },
    {
      "cell_type": "code",
      "source": [
        "'''\n",
        "Epoch 27: val_loss improved from 1.73812 to 1.72151, saving model to /content/drive/MyDrive/바이오 AI 융합 해커톤/best_ppi_model.h5\n",
        "11947/11947 [==============================] - 131s 11ms/step - loss: 1.7142 - mean_absolute_error: 1.1227 - val_loss: 1.7215 - val_mean_absolute_error: 1.1003\n",
        "'''"
      ],
      "metadata": {
        "id": "8q7efjd5gT17"
      },
      "execution_count": null,
      "outputs": []
    },
    {
      "cell_type": "code",
      "source": [
        "def rmse(y_true, y_pred):\n",
        "    return tf.sqrt(tf.reduce_mean(tf.square(y_true - y_pred)))\n",
        "\n",
        "model = PPI_model(amino_vocab, 32)\n",
        "\n",
        "# Compile the model\n",
        "model.compile(optimizer='adam', loss= rmse, metrics=['mean_absolute_error'])\n",
        "\n",
        "model_checkpoint = keras.callbacks.ModelCheckpoint('/content/drive/MyDrive/바이오 AI 융합 해커톤/best_ppi_model.h5', save_best_only=True, save_weights_only=True, monitor='val_loss', mode='min', verbose=1)\n",
        "\n",
        "callbacks_list = [model_checkpoint]\n",
        "\n",
        "# Fit the model to your data\n",
        "model.fit((train_token_1, train_token_2), label_train, batch_size=128, callbacks=callbacks_list, validation_data=[(valid_token_1,valid_token_2),label_valid], epochs=30)"
      ],
      "metadata": {
        "colab": {
          "base_uri": "https://localhost:8080/"
        },
        "id": "uVrkizydcyY4",
        "outputId": "17e77815-971c-4535-d534-011ff32f6356"
      },
      "execution_count": null,
      "outputs": [
        {
          "output_type": "stream",
          "name": "stdout",
          "text": [
            "Epoch 1/30\n",
            "11943/11947 [============================>.] - ETA: 0s - loss: 2.3980 - mean_absolute_error: 1.6455\n",
            "Epoch 1: val_loss improved from inf to 2.23951, saving model to /content/drive/MyDrive/바이오 AI 융합 해커톤/best_ppi_model.h5\n",
            "11947/11947 [==============================] - 141s 11ms/step - loss: 2.3979 - mean_absolute_error: 1.6454 - val_loss: 2.2395 - val_mean_absolute_error: 1.4786\n",
            "Epoch 2/30\n",
            "11945/11947 [============================>.] - ETA: 0s - loss: 2.1388 - mean_absolute_error: 1.4294\n",
            "Epoch 2: val_loss improved from 2.23951 to 2.09975, saving model to /content/drive/MyDrive/바이오 AI 융합 해커톤/best_ppi_model.h5\n",
            "11947/11947 [==============================] - 132s 11ms/step - loss: 2.1387 - mean_absolute_error: 1.4294 - val_loss: 2.0997 - val_mean_absolute_error: 1.3510\n",
            "Epoch 3/30\n",
            "11947/11947 [==============================] - ETA: 0s - loss: 2.0422 - mean_absolute_error: 1.3553\n",
            "Epoch 3: val_loss improved from 2.09975 to 2.00354, saving model to /content/drive/MyDrive/바이오 AI 융합 해커톤/best_ppi_model.h5\n",
            "11947/11947 [==============================] - 129s 11ms/step - loss: 2.0422 - mean_absolute_error: 1.3553 - val_loss: 2.0035 - val_mean_absolute_error: 1.3141\n",
            "Epoch 4/30\n",
            "11947/11947 [==============================] - ETA: 0s - loss: 1.9785 - mean_absolute_error: 1.3088\n",
            "Epoch 4: val_loss did not improve from 2.00354\n",
            "11947/11947 [==============================] - 128s 11ms/step - loss: 1.9785 - mean_absolute_error: 1.3088 - val_loss: 2.0174 - val_mean_absolute_error: 1.3121\n",
            "Epoch 5/30\n",
            "11945/11947 [============================>.] - ETA: 0s - loss: 1.9359 - mean_absolute_error: 1.2773\n",
            "Epoch 5: val_loss improved from 2.00354 to 1.93059, saving model to /content/drive/MyDrive/바이오 AI 융합 해커톤/best_ppi_model.h5\n",
            "11947/11947 [==============================] - 128s 11ms/step - loss: 1.9359 - mean_absolute_error: 1.2773 - val_loss: 1.9306 - val_mean_absolute_error: 1.3149\n",
            "Epoch 6/30\n",
            "11947/11947 [==============================] - ETA: 0s - loss: 1.9034 - mean_absolute_error: 1.2535\n",
            "Epoch 6: val_loss improved from 1.93059 to 1.90705, saving model to /content/drive/MyDrive/바이오 AI 융합 해커톤/best_ppi_model.h5\n",
            "11947/11947 [==============================] - 130s 11ms/step - loss: 1.9034 - mean_absolute_error: 1.2535 - val_loss: 1.9070 - val_mean_absolute_error: 1.2416\n",
            "Epoch 7/30\n",
            "11946/11947 [============================>.] - ETA: 0s - loss: 1.8797 - mean_absolute_error: 1.2367\n",
            "Epoch 7: val_loss improved from 1.90705 to 1.86361, saving model to /content/drive/MyDrive/바이오 AI 융합 해커톤/best_ppi_model.h5\n",
            "11947/11947 [==============================] - 128s 11ms/step - loss: 1.8797 - mean_absolute_error: 1.2367 - val_loss: 1.8636 - val_mean_absolute_error: 1.2083\n",
            "Epoch 8/30\n",
            "11947/11947 [==============================] - ETA: 0s - loss: 1.8621 - mean_absolute_error: 1.2244\n",
            "Epoch 8: val_loss did not improve from 1.86361\n",
            "11947/11947 [==============================] - 126s 11ms/step - loss: 1.8621 - mean_absolute_error: 1.2244 - val_loss: 1.8689 - val_mean_absolute_error: 1.1898\n",
            "Epoch 9/30\n",
            "11946/11947 [============================>.] - ETA: 0s - loss: 1.8479 - mean_absolute_error: 1.2143\n",
            "Epoch 9: val_loss did not improve from 1.86361\n",
            "11947/11947 [==============================] - 128s 11ms/step - loss: 1.8479 - mean_absolute_error: 1.2143 - val_loss: 1.9002 - val_mean_absolute_error: 1.2568\n",
            "Epoch 10/30\n",
            "11945/11947 [============================>.] - ETA: 0s - loss: 1.8323 - mean_absolute_error: 1.2031\n",
            "Epoch 10: val_loss improved from 1.86361 to 1.82932, saving model to /content/drive/MyDrive/바이오 AI 융합 해커톤/best_ppi_model.h5\n",
            "11947/11947 [==============================] - 127s 11ms/step - loss: 1.8322 - mean_absolute_error: 1.2031 - val_loss: 1.8293 - val_mean_absolute_error: 1.2015\n",
            "Epoch 11/30\n",
            "11947/11947 [==============================] - ETA: 0s - loss: 1.8197 - mean_absolute_error: 1.1948\n",
            "Epoch 11: val_loss improved from 1.82932 to 1.81820, saving model to /content/drive/MyDrive/바이오 AI 융합 해커톤/best_ppi_model.h5\n",
            "11947/11947 [==============================] - 130s 11ms/step - loss: 1.8197 - mean_absolute_error: 1.1948 - val_loss: 1.8182 - val_mean_absolute_error: 1.1652\n",
            "Epoch 12/30\n",
            "11945/11947 [============================>.] - ETA: 0s - loss: 1.8083 - mean_absolute_error: 1.1867\n",
            "Epoch 12: val_loss did not improve from 1.81820\n",
            "11947/11947 [==============================] - 126s 11ms/step - loss: 1.8084 - mean_absolute_error: 1.1868 - val_loss: 1.8784 - val_mean_absolute_error: 1.2230\n",
            "Epoch 13/30\n",
            "11946/11947 [============================>.] - ETA: 0s - loss: 1.7975 - mean_absolute_error: 1.1795\n",
            "Epoch 13: val_loss did not improve from 1.81820\n",
            "11947/11947 [==============================] - 127s 11ms/step - loss: 1.7976 - mean_absolute_error: 1.1795 - val_loss: 1.8331 - val_mean_absolute_error: 1.1916\n",
            "Epoch 14/30\n",
            "11945/11947 [============================>.] - ETA: 0s - loss: 1.7896 - mean_absolute_error: 1.1740\n",
            "Epoch 14: val_loss did not improve from 1.81820\n",
            "11947/11947 [==============================] - 128s 11ms/step - loss: 1.7895 - mean_absolute_error: 1.1739 - val_loss: 1.8407 - val_mean_absolute_error: 1.1961\n",
            "Epoch 15/30\n",
            "11944/11947 [============================>.] - ETA: 0s - loss: 1.7808 - mean_absolute_error: 1.1684\n",
            "Epoch 15: val_loss improved from 1.81820 to 1.76800, saving model to /content/drive/MyDrive/바이오 AI 융합 해커톤/best_ppi_model.h5\n",
            "11947/11947 [==============================] - 133s 11ms/step - loss: 1.7808 - mean_absolute_error: 1.1684 - val_loss: 1.7680 - val_mean_absolute_error: 1.1238\n",
            "Epoch 16/30\n",
            "11946/11947 [============================>.] - ETA: 0s - loss: 1.7732 - mean_absolute_error: 1.1618\n",
            "Epoch 16: val_loss did not improve from 1.76800\n",
            "11947/11947 [==============================] - 130s 11ms/step - loss: 1.7732 - mean_absolute_error: 1.1618 - val_loss: 1.7825 - val_mean_absolute_error: 1.1686\n",
            "Epoch 17/30\n",
            "11946/11947 [============================>.] - ETA: 0s - loss: 1.7639 - mean_absolute_error: 1.1559\n",
            "Epoch 17: val_loss did not improve from 1.76800\n",
            "11947/11947 [==============================] - 127s 11ms/step - loss: 1.7639 - mean_absolute_error: 1.1559 - val_loss: 1.8831 - val_mean_absolute_error: 1.2391\n",
            "Epoch 18/30\n",
            "11944/11947 [============================>.] - ETA: 0s - loss: 1.7588 - mean_absolute_error: 1.1522\n",
            "Epoch 18: val_loss did not improve from 1.76800\n",
            "11947/11947 [==============================] - 129s 11ms/step - loss: 1.7588 - mean_absolute_error: 1.1522 - val_loss: 1.7910 - val_mean_absolute_error: 1.1517\n",
            "Epoch 19/30\n",
            "11945/11947 [============================>.] - ETA: 0s - loss: 1.7528 - mean_absolute_error: 1.1481\n",
            "Epoch 19: val_loss improved from 1.76800 to 1.75729, saving model to /content/drive/MyDrive/바이오 AI 융합 해커톤/best_ppi_model.h5\n",
            "11947/11947 [==============================] - 128s 11ms/step - loss: 1.7528 - mean_absolute_error: 1.1481 - val_loss: 1.7573 - val_mean_absolute_error: 1.1356\n",
            "Epoch 20/30\n",
            "11947/11947 [==============================] - ETA: 0s - loss: 1.7488 - mean_absolute_error: 1.1456\n",
            "Epoch 20: val_loss did not improve from 1.75729\n",
            "11947/11947 [==============================] - 126s 11ms/step - loss: 1.7488 - mean_absolute_error: 1.1456 - val_loss: 1.8136 - val_mean_absolute_error: 1.1836\n",
            "Epoch 21/30\n",
            "11947/11947 [==============================] - ETA: 0s - loss: 1.7412 - mean_absolute_error: 1.1403\n",
            "Epoch 21: val_loss improved from 1.75729 to 1.74904, saving model to /content/drive/MyDrive/바이오 AI 융합 해커톤/best_ppi_model.h5\n",
            "11947/11947 [==============================] - 131s 11ms/step - loss: 1.7412 - mean_absolute_error: 1.1403 - val_loss: 1.7490 - val_mean_absolute_error: 1.1154\n",
            "Epoch 22/30\n",
            "11945/11947 [============================>.] - ETA: 0s - loss: 1.7370 - mean_absolute_error: 1.1374\n",
            "Epoch 22: val_loss did not improve from 1.74904\n",
            "11947/11947 [==============================] - 130s 11ms/step - loss: 1.7370 - mean_absolute_error: 1.1374 - val_loss: 1.7716 - val_mean_absolute_error: 1.1495\n",
            "Epoch 23/30\n",
            "11945/11947 [============================>.] - ETA: 0s - loss: 1.7323 - mean_absolute_error: 1.1352\n",
            "Epoch 23: val_loss did not improve from 1.74904\n",
            "11947/11947 [==============================] - 127s 11ms/step - loss: 1.7324 - mean_absolute_error: 1.1352 - val_loss: 1.7528 - val_mean_absolute_error: 1.1239\n",
            "Epoch 24/30\n",
            "11945/11947 [============================>.] - ETA: 0s - loss: 1.7267 - mean_absolute_error: 1.1305\n",
            "Epoch 24: val_loss did not improve from 1.74904\n",
            "11947/11947 [==============================] - 128s 11ms/step - loss: 1.7267 - mean_absolute_error: 1.1305 - val_loss: 1.9720 - val_mean_absolute_error: 1.3311\n",
            "Epoch 25/30\n",
            "11944/11947 [============================>.] - ETA: 0s - loss: 1.7239 - mean_absolute_error: 1.1286\n",
            "Epoch 25: val_loss improved from 1.74904 to 1.73812, saving model to /content/drive/MyDrive/바이오 AI 융합 해커톤/best_ppi_model.h5\n",
            "11947/11947 [==============================] - 129s 11ms/step - loss: 1.7240 - mean_absolute_error: 1.1286 - val_loss: 1.7381 - val_mean_absolute_error: 1.1187\n",
            "Epoch 26/30\n",
            "11947/11947 [==============================] - ETA: 0s - loss: 1.7183 - mean_absolute_error: 1.1254\n",
            "Epoch 26: val_loss did not improve from 1.73812\n",
            "11947/11947 [==============================] - 128s 11ms/step - loss: 1.7183 - mean_absolute_error: 1.1254 - val_loss: 1.7576 - val_mean_absolute_error: 1.1302\n",
            "Epoch 27/30\n",
            "11944/11947 [============================>.] - ETA: 0s - loss: 1.7141 - mean_absolute_error: 1.1227\n",
            "Epoch 27: val_loss improved from 1.73812 to 1.72151, saving model to /content/drive/MyDrive/바이오 AI 융합 해커톤/best_ppi_model.h5\n",
            "11947/11947 [==============================] - 131s 11ms/step - loss: 1.7142 - mean_absolute_error: 1.1227 - val_loss: 1.7215 - val_mean_absolute_error: 1.1003\n",
            "Epoch 28/30\n",
            "11944/11947 [============================>.] - ETA: 0s - loss: 1.7098 - mean_absolute_error: 1.1194\n",
            "Epoch 28: val_loss did not improve from 1.72151\n",
            "11947/11947 [==============================] - 129s 11ms/step - loss: 1.7097 - mean_absolute_error: 1.1194 - val_loss: 1.7312 - val_mean_absolute_error: 1.1061\n",
            "Epoch 29/30\n",
            "11944/11947 [============================>.] - ETA: 0s - loss: 1.7067 - mean_absolute_error: 1.1169\n",
            "Epoch 29: val_loss did not improve from 1.72151\n",
            "11947/11947 [==============================] - 128s 11ms/step - loss: 1.7067 - mean_absolute_error: 1.1169 - val_loss: 1.7378 - val_mean_absolute_error: 1.1073\n",
            "Epoch 30/30\n",
            "11942/11947 [============================>.] - ETA: 0s - loss: 1.7022 - mean_absolute_error: 1.1141\n",
            "Epoch 30: val_loss did not improve from 1.72151\n",
            "11947/11947 [==============================] - 128s 11ms/step - loss: 1.7022 - mean_absolute_error: 1.1141 - val_loss: 1.7234 - val_mean_absolute_error: 1.1043\n"
          ]
        },
        {
          "output_type": "execute_result",
          "data": {
            "text/plain": [
              "<keras.src.callbacks.History at 0x7c8f4286e590>"
            ]
          },
          "metadata": {},
          "execution_count": 53
        }
      ]
    },
    {
      "cell_type": "code",
      "source": [
        "# Create an instance of your model\n",
        "best_ppi_model = PPI_model(amino_vocab, 32)\n",
        "\n",
        "best_ppi_model.build([(None, 15),(None, 15)])\n",
        "\n",
        "# Load the weights\n",
        "best_ppi_model.load_weights('/content/drive/MyDrive/바이오 AI 융합 해커톤/best_ppi_model.h5')\n",
        "\n",
        "# Compile the model\n",
        "best_ppi_model.compile(optimizer='adam', loss=rmse , metrics=['mean_absolute_error'])\n",
        "\n",
        "# Now, you can use the model for predictions\n",
        "test_pred = best_ppi_model.predict((test_token_1, test_token_2))\n",
        "\n",
        "submit = pd.read_csv('/content/drive/MyDrive/바이오 AI 융합 해커톤/sample_submission.csv')\n",
        "submit['h_bond_distance'] = test_pred\n",
        "\n",
        "import time\n",
        "time_ = time.strftime(\"%m%d_%M\", time.localtime())\n",
        "\n",
        "submit.to_csv(f'/content/drive/MyDrive/바이오 AI 융합 해커톤/submition_ppi_{time_}.csv', index=False)"
      ],
      "metadata": {
        "colab": {
          "base_uri": "https://localhost:8080/"
        },
        "id": "yY4Sj_aZepnq",
        "outputId": "67292a4a-88aa-4fcb-9039-c91f5e76cc7e"
      },
      "execution_count": null,
      "outputs": [
        {
          "output_type": "stream",
          "name": "stdout",
          "text": [
            "5111/5111 [==============================] - 19s 4ms/step\n"
          ]
        }
      ]
    },
    {
      "cell_type": "markdown",
      "source": [
        "## other attention model"
      ],
      "metadata": {
        "id": "l8aUaDXEkAj5"
      }
    },
    {
      "cell_type": "code",
      "source": [
        "class LocationBasedAttention(tf.keras.layers.Layer):\n",
        "    def __init__(self, units):\n",
        "        super(LocationBasedAttention, self).__init__()\n",
        "        self.units = units\n",
        "        self.W_q = tf.keras.layers.Dense(units)\n",
        "        self.W_k = tf.keras.layers.Dense(units)\n",
        "        self.W_v = tf.keras.layers.Dense(units)\n",
        "\n",
        "    def build(self, input_shape):\n",
        "        self.position_encoding = self.add_weight(name='position_encoding',\n",
        "                                                 shape=(1, input_shape[1], self.units),\n",
        "                                                 initializer='uniform',\n",
        "                                                 trainable=True)\n",
        "\n",
        "    def call(self, x):\n",
        "        q = self.W_q(x)\n",
        "        k = self.W_k(x)\n",
        "        v = self.W_v(x)\n",
        "\n",
        "        # 위치 인코딩 추가\n",
        "        q += self.position_encoding\n",
        "        k += self.position_encoding\n",
        "\n",
        "        # Scaled Dot-Product Attention 계산\n",
        "        attention_scores = tf.matmul(q, k, transpose_b=True)\n",
        "        attention_scores = attention_scores / tf.math.sqrt(tf.cast(self.units, tf.float32))\n",
        "\n",
        "        # 소프트맥스 함수를 사용하여 어텐션 가중치 계산\n",
        "        attention_weights = tf.nn.softmax(attention_scores, axis=-1)\n",
        "\n",
        "        # 가중합 계산\n",
        "        attention_output = tf.matmul(attention_weights, v)\n",
        "\n",
        "        return attention_output\n",
        "\n",
        "class PPI_model(tf.keras.Model):\n",
        "    def __init__(self, target_vocab, embedding_dim):\n",
        "        super(PPI_model, self).__init__()\n",
        "        self.protein_embedding_1 = tf.keras.layers.Embedding(input_dim=len(target_vocab), output_dim=embedding_dim)\n",
        "        self.protein_embedding_2 = tf.keras.layers.Embedding(input_dim=len(target_vocab), output_dim=embedding_dim)\n",
        "\n",
        "        self.protein_1_ConvLayers = tf.keras.Sequential([\n",
        "            tf.keras.layers.Conv1D(32, 2, activation='relu', padding='valid', strides=1),\n",
        "            tf.keras.layers.Conv1D(32 , 3, activation='relu', padding='valid', strides=1)])\n",
        "\n",
        "        self.protein_1_pooling = tf.keras.layers.GlobalMaxPooling1D()\n",
        "\n",
        "        self.protein_2_ConvLayers = tf.keras.Sequential([\n",
        "            tf.keras.layers.Conv1D(32, 2, activation='relu', padding='valid', strides=1),\n",
        "            tf.keras.layers.Conv1D(32, 3, activation='relu', padding='valid', strides=1)])\n",
        "\n",
        "        self.protein_2_pooling = tf.keras.layers.GlobalMaxPooling1D()\n",
        "\n",
        "        self.attention_1 = LocationBasedAttention(units=64)\n",
        "        self.attention_2 = LocationBasedAttention(units=64)\n",
        "\n",
        "        self.merge = tf.keras.layers.Concatenate(axis=-1)\n",
        "\n",
        "        self.FC_layers = tf.keras.Sequential([\n",
        "            tf.keras.layers.Flatten(),\n",
        "            tf.keras.layers.Dense(256, activation='relu'),\n",
        "            tf.keras.layers.Dropout(0.1),\n",
        "            tf.keras.layers.Dense(128, activation='relu'),\n",
        "            tf.keras.layers.Dropout(0.1),\n",
        "            tf.keras.layers.Dense(128, activation='relu'),\n",
        "            tf.keras.layers.Dense(1, activation=None)\n",
        "        ])\n",
        "\n",
        "    def call(self, inputs):\n",
        "        protein_data1, protein_data2 = inputs\n",
        "        x1 = self.protein_embedding_1(protein_data1)\n",
        "        x2 = self.protein_embedding_2(protein_data2)\n",
        "\n",
        "        x1 = self.protein_1_ConvLayers(x1)\n",
        "        x2 = self.protein_2_ConvLayers(x2)\n",
        "\n",
        "        x1_att = self.attention_1(x1)\n",
        "        x2_att = self.attention_2(x2)\n",
        "\n",
        "        x1 = self.merge([x1_att, x1])\n",
        "        x2 = self.merge([x2_att, x2])\n",
        "\n",
        "        x1 = self.protein_1_pooling(x1)\n",
        "        x2 = self.protein_2_pooling(x2)\n",
        "\n",
        "        encoded_interaction = self.merge([x1, x2])\n",
        "        prediction = self.FC_layers(encoded_interaction)\n",
        "        return prediction"
      ],
      "metadata": {
        "id": "CAWX8fMsj9It"
      },
      "execution_count": null,
      "outputs": []
    },
    {
      "cell_type": "code",
      "source": [
        "''' 이전 기록\n",
        "Epoch 1: val_loss improved from inf to 2.23951, saving model to /content/drive/MyDrive/바이오 AI 융합 해커톤/best_ppi_model.h5\n",
        "11947/11947 [==============================] - 141s 11ms/step - loss: 2.3979 - mean_absolute_error: 1.6454 - val_loss: 2.2395 - val_mean_absolute_error: 1.4786\n",
        "\n",
        "Epoch 27: val_loss improved from 1.73812 to 1.72151, saving model to /content/drive/MyDrive/바이오 AI 융합 해커톤/best_ppi_model.h5\n",
        "11947/11947 [==============================] - 131s 11ms/step - loss: 1.7142 - mean_absolute_error: 1.1227 - val_loss: 1.7215 - val_mean_absolute_error: 1.1003\n",
        "'''"
      ],
      "metadata": {
        "id": "MgwUUDtEmXUJ"
      },
      "execution_count": null,
      "outputs": []
    },
    {
      "cell_type": "code",
      "source": [
        "def rmse(y_true, y_pred):\n",
        "    return tf.sqrt(tf.reduce_mean(tf.square(y_true - y_pred)))\n",
        "\n",
        "model = PPI_model(amino_vocab, 32)\n",
        "\n",
        "# Compile the model\n",
        "model.compile(optimizer='adam', loss= rmse, metrics=['mean_absolute_error'])\n",
        "\n",
        "model_checkpoint = keras.callbacks.ModelCheckpoint('/content/drive/MyDrive/바이오 AI 융합 해커톤/best_ppi_model.h5', save_best_only=True, save_weights_only=True, monitor='val_loss', mode='min', verbose=1)\n",
        "\n",
        "callbacks_list = [model_checkpoint]\n",
        "\n",
        "# Fit the model to your data\n",
        "model.fit((train_token_1, train_token_2), label_train, batch_size=128, callbacks=callbacks_list, validation_data=[(valid_token_1,valid_token_2),label_valid], epochs=30)"
      ],
      "metadata": {
        "colab": {
          "base_uri": "https://localhost:8080/",
          "height": 777
        },
        "id": "ftCdTWmemMwN",
        "outputId": "bbd40895-51ce-4cc4-df0d-4f2e5ed7b730"
      },
      "execution_count": null,
      "outputs": [
        {
          "output_type": "stream",
          "name": "stdout",
          "text": [
            "Epoch 1/30\n",
            "11947/11947 [==============================] - ETA: 0s - loss: 2.3892 - mean_absolute_error: 1.6405\n",
            "Epoch 1: val_loss improved from inf to 2.40639, saving model to /content/drive/MyDrive/바이오 AI 융합 해커톤/best_ppi_model.h5\n",
            "11947/11947 [==============================] - 135s 10ms/step - loss: 2.3892 - mean_absolute_error: 1.6405 - val_loss: 2.4064 - val_mean_absolute_error: 1.6104\n",
            "Epoch 2/30\n",
            "11944/11947 [============================>.] - ETA: 0s - loss: 2.0961 - mean_absolute_error: 1.3981\n",
            "Epoch 2: val_loss improved from 2.40639 to 2.18372, saving model to /content/drive/MyDrive/바이오 AI 융합 해커톤/best_ppi_model.h5\n",
            "11947/11947 [==============================] - 119s 10ms/step - loss: 2.0961 - mean_absolute_error: 1.3981 - val_loss: 2.1837 - val_mean_absolute_error: 1.4633\n",
            "Epoch 3/30\n",
            "11947/11947 [==============================] - ETA: 0s - loss: 1.9774 - mean_absolute_error: 1.3068\n",
            "Epoch 3: val_loss did not improve from 2.18372\n",
            "11947/11947 [==============================] - 120s 10ms/step - loss: 1.9774 - mean_absolute_error: 1.3068 - val_loss: 2.4566 - val_mean_absolute_error: 1.7288\n",
            "Epoch 4/30\n",
            "11946/11947 [============================>.] - ETA: 0s - loss: 1.8923 - mean_absolute_error: 1.2417\n",
            "Epoch 4: val_loss improved from 2.18372 to 2.05265, saving model to /content/drive/MyDrive/바이오 AI 융합 해커톤/best_ppi_model.h5\n",
            "11947/11947 [==============================] - 119s 10ms/step - loss: 1.8923 - mean_absolute_error: 1.2417 - val_loss: 2.0526 - val_mean_absolute_error: 1.3836\n",
            "Epoch 5/30\n",
            "11944/11947 [============================>.] - ETA: 0s - loss: 1.8305 - mean_absolute_error: 1.1972\n",
            "Epoch 5: val_loss did not improve from 2.05265\n",
            "11947/11947 [==============================] - 119s 10ms/step - loss: 1.8305 - mean_absolute_error: 1.1972 - val_loss: 2.0893 - val_mean_absolute_error: 1.4366\n",
            "Epoch 6/30\n",
            "  649/11947 [>.............................] - ETA: 1:37 - loss: 1.7864 - mean_absolute_error: 1.1625"
          ]
        },
        {
          "output_type": "error",
          "ename": "KeyboardInterrupt",
          "evalue": "ignored",
          "traceback": [
            "\u001b[0;31m---------------------------------------------------------------------------\u001b[0m",
            "\u001b[0;31mKeyboardInterrupt\u001b[0m                         Traceback (most recent call last)",
            "\u001b[0;32m<ipython-input-10-2ae9527ae71d>\u001b[0m in \u001b[0;36m<cell line: 14>\u001b[0;34m()\u001b[0m\n\u001b[1;32m     12\u001b[0m \u001b[0;34m\u001b[0m\u001b[0m\n\u001b[1;32m     13\u001b[0m \u001b[0;31m# Fit the model to your data\u001b[0m\u001b[0;34m\u001b[0m\u001b[0;34m\u001b[0m\u001b[0m\n\u001b[0;32m---> 14\u001b[0;31m \u001b[0mmodel\u001b[0m\u001b[0;34m.\u001b[0m\u001b[0mfit\u001b[0m\u001b[0;34m(\u001b[0m\u001b[0;34m(\u001b[0m\u001b[0mtrain_token_1\u001b[0m\u001b[0;34m,\u001b[0m \u001b[0mtrain_token_2\u001b[0m\u001b[0;34m)\u001b[0m\u001b[0;34m,\u001b[0m \u001b[0mlabel_train\u001b[0m\u001b[0;34m,\u001b[0m \u001b[0mbatch_size\u001b[0m\u001b[0;34m=\u001b[0m\u001b[0;36m128\u001b[0m\u001b[0;34m,\u001b[0m \u001b[0mcallbacks\u001b[0m\u001b[0;34m=\u001b[0m\u001b[0mcallbacks_list\u001b[0m\u001b[0;34m,\u001b[0m \u001b[0mvalidation_data\u001b[0m\u001b[0;34m=\u001b[0m\u001b[0;34m[\u001b[0m\u001b[0;34m(\u001b[0m\u001b[0mvalid_token_1\u001b[0m\u001b[0;34m,\u001b[0m\u001b[0mvalid_token_2\u001b[0m\u001b[0;34m)\u001b[0m\u001b[0;34m,\u001b[0m\u001b[0mlabel_valid\u001b[0m\u001b[0;34m]\u001b[0m\u001b[0;34m,\u001b[0m \u001b[0mepochs\u001b[0m\u001b[0;34m=\u001b[0m\u001b[0;36m30\u001b[0m\u001b[0;34m)\u001b[0m\u001b[0;34m\u001b[0m\u001b[0;34m\u001b[0m\u001b[0m\n\u001b[0m",
            "\u001b[0;32m/usr/local/lib/python3.10/dist-packages/keras/src/utils/traceback_utils.py\u001b[0m in \u001b[0;36merror_handler\u001b[0;34m(*args, **kwargs)\u001b[0m\n\u001b[1;32m     63\u001b[0m         \u001b[0mfiltered_tb\u001b[0m \u001b[0;34m=\u001b[0m \u001b[0;32mNone\u001b[0m\u001b[0;34m\u001b[0m\u001b[0;34m\u001b[0m\u001b[0m\n\u001b[1;32m     64\u001b[0m         \u001b[0;32mtry\u001b[0m\u001b[0;34m:\u001b[0m\u001b[0;34m\u001b[0m\u001b[0;34m\u001b[0m\u001b[0m\n\u001b[0;32m---> 65\u001b[0;31m             \u001b[0;32mreturn\u001b[0m \u001b[0mfn\u001b[0m\u001b[0;34m(\u001b[0m\u001b[0;34m*\u001b[0m\u001b[0margs\u001b[0m\u001b[0;34m,\u001b[0m \u001b[0;34m**\u001b[0m\u001b[0mkwargs\u001b[0m\u001b[0;34m)\u001b[0m\u001b[0;34m\u001b[0m\u001b[0;34m\u001b[0m\u001b[0m\n\u001b[0m\u001b[1;32m     66\u001b[0m         \u001b[0;32mexcept\u001b[0m \u001b[0mException\u001b[0m \u001b[0;32mas\u001b[0m \u001b[0me\u001b[0m\u001b[0;34m:\u001b[0m\u001b[0;34m\u001b[0m\u001b[0;34m\u001b[0m\u001b[0m\n\u001b[1;32m     67\u001b[0m             \u001b[0mfiltered_tb\u001b[0m \u001b[0;34m=\u001b[0m \u001b[0m_process_traceback_frames\u001b[0m\u001b[0;34m(\u001b[0m\u001b[0me\u001b[0m\u001b[0;34m.\u001b[0m\u001b[0m__traceback__\u001b[0m\u001b[0;34m)\u001b[0m\u001b[0;34m\u001b[0m\u001b[0;34m\u001b[0m\u001b[0m\n",
            "\u001b[0;32m/usr/local/lib/python3.10/dist-packages/keras/src/engine/training.py\u001b[0m in \u001b[0;36mfit\u001b[0;34m(self, x, y, batch_size, epochs, verbose, callbacks, validation_split, validation_data, shuffle, class_weight, sample_weight, initial_epoch, steps_per_epoch, validation_steps, validation_batch_size, validation_freq, max_queue_size, workers, use_multiprocessing)\u001b[0m\n\u001b[1;32m   1805\u001b[0m                         ):\n\u001b[1;32m   1806\u001b[0m                             \u001b[0mcallbacks\u001b[0m\u001b[0;34m.\u001b[0m\u001b[0mon_train_batch_begin\u001b[0m\u001b[0;34m(\u001b[0m\u001b[0mstep\u001b[0m\u001b[0;34m)\u001b[0m\u001b[0;34m\u001b[0m\u001b[0;34m\u001b[0m\u001b[0m\n\u001b[0;32m-> 1807\u001b[0;31m                             \u001b[0mtmp_logs\u001b[0m \u001b[0;34m=\u001b[0m \u001b[0mself\u001b[0m\u001b[0;34m.\u001b[0m\u001b[0mtrain_function\u001b[0m\u001b[0;34m(\u001b[0m\u001b[0miterator\u001b[0m\u001b[0;34m)\u001b[0m\u001b[0;34m\u001b[0m\u001b[0;34m\u001b[0m\u001b[0m\n\u001b[0m\u001b[1;32m   1808\u001b[0m                             \u001b[0;32mif\u001b[0m \u001b[0mdata_handler\u001b[0m\u001b[0;34m.\u001b[0m\u001b[0mshould_sync\u001b[0m\u001b[0;34m:\u001b[0m\u001b[0;34m\u001b[0m\u001b[0;34m\u001b[0m\u001b[0m\n\u001b[1;32m   1809\u001b[0m                                 \u001b[0mcontext\u001b[0m\u001b[0;34m.\u001b[0m\u001b[0masync_wait\u001b[0m\u001b[0;34m(\u001b[0m\u001b[0;34m)\u001b[0m\u001b[0;34m\u001b[0m\u001b[0;34m\u001b[0m\u001b[0m\n",
            "\u001b[0;32m/usr/local/lib/python3.10/dist-packages/tensorflow/python/util/traceback_utils.py\u001b[0m in \u001b[0;36merror_handler\u001b[0;34m(*args, **kwargs)\u001b[0m\n\u001b[1;32m    148\u001b[0m     \u001b[0mfiltered_tb\u001b[0m \u001b[0;34m=\u001b[0m \u001b[0;32mNone\u001b[0m\u001b[0;34m\u001b[0m\u001b[0;34m\u001b[0m\u001b[0m\n\u001b[1;32m    149\u001b[0m     \u001b[0;32mtry\u001b[0m\u001b[0;34m:\u001b[0m\u001b[0;34m\u001b[0m\u001b[0;34m\u001b[0m\u001b[0m\n\u001b[0;32m--> 150\u001b[0;31m       \u001b[0;32mreturn\u001b[0m \u001b[0mfn\u001b[0m\u001b[0;34m(\u001b[0m\u001b[0;34m*\u001b[0m\u001b[0margs\u001b[0m\u001b[0;34m,\u001b[0m \u001b[0;34m**\u001b[0m\u001b[0mkwargs\u001b[0m\u001b[0;34m)\u001b[0m\u001b[0;34m\u001b[0m\u001b[0;34m\u001b[0m\u001b[0m\n\u001b[0m\u001b[1;32m    151\u001b[0m     \u001b[0;32mexcept\u001b[0m \u001b[0mException\u001b[0m \u001b[0;32mas\u001b[0m \u001b[0me\u001b[0m\u001b[0;34m:\u001b[0m\u001b[0;34m\u001b[0m\u001b[0;34m\u001b[0m\u001b[0m\n\u001b[1;32m    152\u001b[0m       \u001b[0mfiltered_tb\u001b[0m \u001b[0;34m=\u001b[0m \u001b[0m_process_traceback_frames\u001b[0m\u001b[0;34m(\u001b[0m\u001b[0me\u001b[0m\u001b[0;34m.\u001b[0m\u001b[0m__traceback__\u001b[0m\u001b[0;34m)\u001b[0m\u001b[0;34m\u001b[0m\u001b[0;34m\u001b[0m\u001b[0m\n",
            "\u001b[0;32m/usr/local/lib/python3.10/dist-packages/tensorflow/python/eager/polymorphic_function/polymorphic_function.py\u001b[0m in \u001b[0;36m__call__\u001b[0;34m(self, *args, **kwds)\u001b[0m\n\u001b[1;32m    830\u001b[0m \u001b[0;34m\u001b[0m\u001b[0m\n\u001b[1;32m    831\u001b[0m       \u001b[0;32mwith\u001b[0m \u001b[0mOptionalXlaContext\u001b[0m\u001b[0;34m(\u001b[0m\u001b[0mself\u001b[0m\u001b[0;34m.\u001b[0m\u001b[0m_jit_compile\u001b[0m\u001b[0;34m)\u001b[0m\u001b[0;34m:\u001b[0m\u001b[0;34m\u001b[0m\u001b[0;34m\u001b[0m\u001b[0m\n\u001b[0;32m--> 832\u001b[0;31m         \u001b[0mresult\u001b[0m \u001b[0;34m=\u001b[0m \u001b[0mself\u001b[0m\u001b[0;34m.\u001b[0m\u001b[0m_call\u001b[0m\u001b[0;34m(\u001b[0m\u001b[0;34m*\u001b[0m\u001b[0margs\u001b[0m\u001b[0;34m,\u001b[0m \u001b[0;34m**\u001b[0m\u001b[0mkwds\u001b[0m\u001b[0;34m)\u001b[0m\u001b[0;34m\u001b[0m\u001b[0;34m\u001b[0m\u001b[0m\n\u001b[0m\u001b[1;32m    833\u001b[0m \u001b[0;34m\u001b[0m\u001b[0m\n\u001b[1;32m    834\u001b[0m       \u001b[0mnew_tracing_count\u001b[0m \u001b[0;34m=\u001b[0m \u001b[0mself\u001b[0m\u001b[0;34m.\u001b[0m\u001b[0mexperimental_get_tracing_count\u001b[0m\u001b[0;34m(\u001b[0m\u001b[0;34m)\u001b[0m\u001b[0;34m\u001b[0m\u001b[0;34m\u001b[0m\u001b[0m\n",
            "\u001b[0;32m/usr/local/lib/python3.10/dist-packages/tensorflow/python/eager/polymorphic_function/polymorphic_function.py\u001b[0m in \u001b[0;36m_call\u001b[0;34m(self, *args, **kwds)\u001b[0m\n\u001b[1;32m    866\u001b[0m       \u001b[0;31m# In this case we have created variables on the first call, so we run the\u001b[0m\u001b[0;34m\u001b[0m\u001b[0;34m\u001b[0m\u001b[0m\n\u001b[1;32m    867\u001b[0m       \u001b[0;31m# defunned version which is guaranteed to never create variables.\u001b[0m\u001b[0;34m\u001b[0m\u001b[0;34m\u001b[0m\u001b[0m\n\u001b[0;32m--> 868\u001b[0;31m       return tracing_compilation.call_function(\n\u001b[0m\u001b[1;32m    869\u001b[0m           \u001b[0margs\u001b[0m\u001b[0;34m,\u001b[0m \u001b[0mkwds\u001b[0m\u001b[0;34m,\u001b[0m \u001b[0mself\u001b[0m\u001b[0;34m.\u001b[0m\u001b[0m_no_variable_creation_config\u001b[0m\u001b[0;34m\u001b[0m\u001b[0;34m\u001b[0m\u001b[0m\n\u001b[1;32m    870\u001b[0m       )\n",
            "\u001b[0;32m/usr/local/lib/python3.10/dist-packages/tensorflow/python/eager/polymorphic_function/tracing_compilation.py\u001b[0m in \u001b[0;36mcall_function\u001b[0;34m(args, kwargs, tracing_options)\u001b[0m\n\u001b[1;32m    137\u001b[0m   \u001b[0mbound_args\u001b[0m \u001b[0;34m=\u001b[0m \u001b[0mfunction\u001b[0m\u001b[0;34m.\u001b[0m\u001b[0mfunction_type\u001b[0m\u001b[0;34m.\u001b[0m\u001b[0mbind\u001b[0m\u001b[0;34m(\u001b[0m\u001b[0;34m*\u001b[0m\u001b[0margs\u001b[0m\u001b[0;34m,\u001b[0m \u001b[0;34m**\u001b[0m\u001b[0mkwargs\u001b[0m\u001b[0;34m)\u001b[0m\u001b[0;34m\u001b[0m\u001b[0;34m\u001b[0m\u001b[0m\n\u001b[1;32m    138\u001b[0m   \u001b[0mflat_inputs\u001b[0m \u001b[0;34m=\u001b[0m \u001b[0mfunction\u001b[0m\u001b[0;34m.\u001b[0m\u001b[0mfunction_type\u001b[0m\u001b[0;34m.\u001b[0m\u001b[0munpack_inputs\u001b[0m\u001b[0;34m(\u001b[0m\u001b[0mbound_args\u001b[0m\u001b[0;34m)\u001b[0m\u001b[0;34m\u001b[0m\u001b[0;34m\u001b[0m\u001b[0m\n\u001b[0;32m--> 139\u001b[0;31m   return function._call_flat(  # pylint: disable=protected-access\n\u001b[0m\u001b[1;32m    140\u001b[0m       \u001b[0mflat_inputs\u001b[0m\u001b[0;34m,\u001b[0m \u001b[0mcaptured_inputs\u001b[0m\u001b[0;34m=\u001b[0m\u001b[0mfunction\u001b[0m\u001b[0;34m.\u001b[0m\u001b[0mcaptured_inputs\u001b[0m\u001b[0;34m\u001b[0m\u001b[0;34m\u001b[0m\u001b[0m\n\u001b[1;32m    141\u001b[0m   )\n",
            "\u001b[0;32m/usr/local/lib/python3.10/dist-packages/tensorflow/python/eager/polymorphic_function/concrete_function.py\u001b[0m in \u001b[0;36m_call_flat\u001b[0;34m(self, tensor_inputs, captured_inputs)\u001b[0m\n\u001b[1;32m   1321\u001b[0m         and executing_eagerly):\n\u001b[1;32m   1322\u001b[0m       \u001b[0;31m# No tape is watching; skip to running the function.\u001b[0m\u001b[0;34m\u001b[0m\u001b[0;34m\u001b[0m\u001b[0m\n\u001b[0;32m-> 1323\u001b[0;31m       \u001b[0;32mreturn\u001b[0m \u001b[0mself\u001b[0m\u001b[0;34m.\u001b[0m\u001b[0m_inference_function\u001b[0m\u001b[0;34m.\u001b[0m\u001b[0mcall_preflattened\u001b[0m\u001b[0;34m(\u001b[0m\u001b[0margs\u001b[0m\u001b[0;34m)\u001b[0m\u001b[0;34m\u001b[0m\u001b[0;34m\u001b[0m\u001b[0m\n\u001b[0m\u001b[1;32m   1324\u001b[0m     forward_backward = self._select_forward_and_backward_functions(\n\u001b[1;32m   1325\u001b[0m         \u001b[0margs\u001b[0m\u001b[0;34m,\u001b[0m\u001b[0;34m\u001b[0m\u001b[0;34m\u001b[0m\u001b[0m\n",
            "\u001b[0;32m/usr/local/lib/python3.10/dist-packages/tensorflow/python/eager/polymorphic_function/atomic_function.py\u001b[0m in \u001b[0;36mcall_preflattened\u001b[0;34m(self, args)\u001b[0m\n\u001b[1;32m    214\u001b[0m   \u001b[0;32mdef\u001b[0m \u001b[0mcall_preflattened\u001b[0m\u001b[0;34m(\u001b[0m\u001b[0mself\u001b[0m\u001b[0;34m,\u001b[0m \u001b[0margs\u001b[0m\u001b[0;34m:\u001b[0m \u001b[0mSequence\u001b[0m\u001b[0;34m[\u001b[0m\u001b[0mcore\u001b[0m\u001b[0;34m.\u001b[0m\u001b[0mTensor\u001b[0m\u001b[0;34m]\u001b[0m\u001b[0;34m)\u001b[0m \u001b[0;34m->\u001b[0m \u001b[0mAny\u001b[0m\u001b[0;34m:\u001b[0m\u001b[0;34m\u001b[0m\u001b[0;34m\u001b[0m\u001b[0m\n\u001b[1;32m    215\u001b[0m     \u001b[0;34m\"\"\"Calls with flattened tensor inputs and returns the structured output.\"\"\"\u001b[0m\u001b[0;34m\u001b[0m\u001b[0;34m\u001b[0m\u001b[0m\n\u001b[0;32m--> 216\u001b[0;31m     \u001b[0mflat_outputs\u001b[0m \u001b[0;34m=\u001b[0m \u001b[0mself\u001b[0m\u001b[0;34m.\u001b[0m\u001b[0mcall_flat\u001b[0m\u001b[0;34m(\u001b[0m\u001b[0;34m*\u001b[0m\u001b[0margs\u001b[0m\u001b[0;34m)\u001b[0m\u001b[0;34m\u001b[0m\u001b[0;34m\u001b[0m\u001b[0m\n\u001b[0m\u001b[1;32m    217\u001b[0m     \u001b[0;32mreturn\u001b[0m \u001b[0mself\u001b[0m\u001b[0;34m.\u001b[0m\u001b[0mfunction_type\u001b[0m\u001b[0;34m.\u001b[0m\u001b[0mpack_output\u001b[0m\u001b[0;34m(\u001b[0m\u001b[0mflat_outputs\u001b[0m\u001b[0;34m)\u001b[0m\u001b[0;34m\u001b[0m\u001b[0;34m\u001b[0m\u001b[0m\n\u001b[1;32m    218\u001b[0m \u001b[0;34m\u001b[0m\u001b[0m\n",
            "\u001b[0;32m/usr/local/lib/python3.10/dist-packages/tensorflow/python/eager/polymorphic_function/atomic_function.py\u001b[0m in \u001b[0;36mcall_flat\u001b[0;34m(self, *args)\u001b[0m\n\u001b[1;32m    249\u001b[0m         \u001b[0;32mwith\u001b[0m \u001b[0mrecord\u001b[0m\u001b[0;34m.\u001b[0m\u001b[0mstop_recording\u001b[0m\u001b[0;34m(\u001b[0m\u001b[0;34m)\u001b[0m\u001b[0;34m:\u001b[0m\u001b[0;34m\u001b[0m\u001b[0;34m\u001b[0m\u001b[0m\n\u001b[1;32m    250\u001b[0m           \u001b[0;32mif\u001b[0m \u001b[0mself\u001b[0m\u001b[0;34m.\u001b[0m\u001b[0m_bound_context\u001b[0m\u001b[0;34m.\u001b[0m\u001b[0mexecuting_eagerly\u001b[0m\u001b[0;34m(\u001b[0m\u001b[0;34m)\u001b[0m\u001b[0;34m:\u001b[0m\u001b[0;34m\u001b[0m\u001b[0;34m\u001b[0m\u001b[0m\n\u001b[0;32m--> 251\u001b[0;31m             outputs = self._bound_context.call_function(\n\u001b[0m\u001b[1;32m    252\u001b[0m                 \u001b[0mself\u001b[0m\u001b[0;34m.\u001b[0m\u001b[0mname\u001b[0m\u001b[0;34m,\u001b[0m\u001b[0;34m\u001b[0m\u001b[0;34m\u001b[0m\u001b[0m\n\u001b[1;32m    253\u001b[0m                 \u001b[0mlist\u001b[0m\u001b[0;34m(\u001b[0m\u001b[0margs\u001b[0m\u001b[0;34m)\u001b[0m\u001b[0;34m,\u001b[0m\u001b[0;34m\u001b[0m\u001b[0;34m\u001b[0m\u001b[0m\n",
            "\u001b[0;32m/usr/local/lib/python3.10/dist-packages/tensorflow/python/eager/context.py\u001b[0m in \u001b[0;36mcall_function\u001b[0;34m(self, name, tensor_inputs, num_outputs)\u001b[0m\n\u001b[1;32m   1484\u001b[0m     \u001b[0mcancellation_context\u001b[0m \u001b[0;34m=\u001b[0m \u001b[0mcancellation\u001b[0m\u001b[0;34m.\u001b[0m\u001b[0mcontext\u001b[0m\u001b[0;34m(\u001b[0m\u001b[0;34m)\u001b[0m\u001b[0;34m\u001b[0m\u001b[0;34m\u001b[0m\u001b[0m\n\u001b[1;32m   1485\u001b[0m     \u001b[0;32mif\u001b[0m \u001b[0mcancellation_context\u001b[0m \u001b[0;32mis\u001b[0m \u001b[0;32mNone\u001b[0m\u001b[0;34m:\u001b[0m\u001b[0;34m\u001b[0m\u001b[0;34m\u001b[0m\u001b[0m\n\u001b[0;32m-> 1486\u001b[0;31m       outputs = execute.execute(\n\u001b[0m\u001b[1;32m   1487\u001b[0m           \u001b[0mname\u001b[0m\u001b[0;34m.\u001b[0m\u001b[0mdecode\u001b[0m\u001b[0;34m(\u001b[0m\u001b[0;34m\"utf-8\"\u001b[0m\u001b[0;34m)\u001b[0m\u001b[0;34m,\u001b[0m\u001b[0;34m\u001b[0m\u001b[0;34m\u001b[0m\u001b[0m\n\u001b[1;32m   1488\u001b[0m           \u001b[0mnum_outputs\u001b[0m\u001b[0;34m=\u001b[0m\u001b[0mnum_outputs\u001b[0m\u001b[0;34m,\u001b[0m\u001b[0;34m\u001b[0m\u001b[0;34m\u001b[0m\u001b[0m\n",
            "\u001b[0;32m/usr/local/lib/python3.10/dist-packages/tensorflow/python/eager/execute.py\u001b[0m in \u001b[0;36mquick_execute\u001b[0;34m(op_name, num_outputs, inputs, attrs, ctx, name)\u001b[0m\n\u001b[1;32m     51\u001b[0m   \u001b[0;32mtry\u001b[0m\u001b[0;34m:\u001b[0m\u001b[0;34m\u001b[0m\u001b[0;34m\u001b[0m\u001b[0m\n\u001b[1;32m     52\u001b[0m     \u001b[0mctx\u001b[0m\u001b[0;34m.\u001b[0m\u001b[0mensure_initialized\u001b[0m\u001b[0;34m(\u001b[0m\u001b[0;34m)\u001b[0m\u001b[0;34m\u001b[0m\u001b[0;34m\u001b[0m\u001b[0m\n\u001b[0;32m---> 53\u001b[0;31m     tensors = pywrap_tfe.TFE_Py_Execute(ctx._handle, device_name, op_name,\n\u001b[0m\u001b[1;32m     54\u001b[0m                                         inputs, attrs, num_outputs)\n\u001b[1;32m     55\u001b[0m   \u001b[0;32mexcept\u001b[0m \u001b[0mcore\u001b[0m\u001b[0;34m.\u001b[0m\u001b[0m_NotOkStatusException\u001b[0m \u001b[0;32mas\u001b[0m \u001b[0me\u001b[0m\u001b[0;34m:\u001b[0m\u001b[0;34m\u001b[0m\u001b[0;34m\u001b[0m\u001b[0m\n",
            "\u001b[0;31mKeyboardInterrupt\u001b[0m: "
          ]
        }
      ]
    },
    {
      "cell_type": "code",
      "source": [
        "# Create an instance of your model\n",
        "best_ppi_model = PPI_model(amino_vocab, 32)\n",
        "\n",
        "best_ppi_model.build([(None, 15),(None, 15)])\n",
        "\n",
        "# Load the weights\n",
        "best_ppi_model.load_weights('/content/drive/MyDrive/바이오 AI 융합 해커톤/best_ppi_model.h5')\n",
        "\n",
        "# Compile the model\n",
        "best_ppi_model.compile(optimizer='adam', loss=rmse , metrics=['mean_absolute_error'])\n",
        "\n",
        "# Now, you can use the model for predictions\n",
        "test_pred = best_ppi_model.predict((test_token_1, test_token_2))\n",
        "\n",
        "submit = pd.read_csv('/content/drive/MyDrive/바이오 AI 융합 해커톤/sample_submission.csv')\n",
        "submit['h_bond_distance'] = test_pred\n",
        "\n",
        "import time\n",
        "time_ = time.strftime(\"%m%d_%M\", time.localtime())\n",
        "\n",
        "submit.to_csv(f'/content/drive/MyDrive/바이오 AI 융합 해커톤/submition_ppi_{time_}.csv', index=False)"
      ],
      "metadata": {
        "colab": {
          "base_uri": "https://localhost:8080/"
        },
        "id": "x4suFcYtzl7M",
        "outputId": "65f8c7a3-b30e-4f84-ea02-f7678108f6f2"
      },
      "execution_count": null,
      "outputs": [
        {
          "output_type": "stream",
          "name": "stdout",
          "text": [
            "5111/5111 [==============================] - 17s 3ms/step\n"
          ]
        }
      ]
    }
  ],
  "metadata": {
    "accelerator": "GPU",
    "colab": {
      "provenance": [],
      "toc_visible": true
    },
    "kernelspec": {
      "display_name": "Python 3",
      "name": "python3"
    },
    "language_info": {
      "name": "python"
    }
  },
  "nbformat": 4,
  "nbformat_minor": 0
}